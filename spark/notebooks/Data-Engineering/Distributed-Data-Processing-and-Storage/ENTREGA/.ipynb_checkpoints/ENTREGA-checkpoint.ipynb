{
 "cells": [
  {
   "cell_type": "code",
   "execution_count": 1,
   "id": "00e6df52-9afc-478b-907a-9584985bec8b",
   "metadata": {},
   "outputs": [],
   "source": [
    "from pyspark.sql import SparkSession\n",
    "from pyspark.sql.functions import col, abs\n",
    "import os\n",
    "import requests"
   ]
  },
  {
   "cell_type": "code",
   "execution_count": 2,
   "id": "a874023f-cd4b-4c37-bed2-19b253aa57a6",
   "metadata": {},
   "outputs": [],
   "source": [
    "spark = SparkSession.builder.appName('Entrega Fabio').enableHiveSupport().getOrCreate()"
   ]
  },
  {
   "cell_type": "code",
   "execution_count": 3,
   "id": "198a5eeb-cf0f-4c2d-bb23-20378096cad0",
   "metadata": {},
   "outputs": [
    {
     "data": {
      "text/html": [
       "\n",
       "            <div>\n",
       "                <p><b>SparkSession - hive</b></p>\n",
       "                \n",
       "        <div>\n",
       "            <p><b>SparkContext</b></p>\n",
       "\n",
       "            <p><a href=\"http://spark-master:4040\">Spark UI</a></p>\n",
       "\n",
       "            <dl>\n",
       "              <dt>Version</dt>\n",
       "                <dd><code>v3.3.1</code></dd>\n",
       "              <dt>Master</dt>\n",
       "                <dd><code>local[*]</code></dd>\n",
       "              <dt>AppName</dt>\n",
       "                <dd><code>Entrega Fabio</code></dd>\n",
       "            </dl>\n",
       "        </div>\n",
       "        \n",
       "            </div>\n",
       "        "
      ],
      "text/plain": [
       "<pyspark.sql.session.SparkSession at 0x79834b3da7d0>"
      ]
     },
     "execution_count": 3,
     "metadata": {},
     "output_type": "execute_result"
    }
   ],
   "source": [
    "spark"
   ]
  },
  {
   "cell_type": "code",
   "execution_count": 7,
   "id": "43b780e9-8622-4870-88ff-d2bd570ecfd3",
   "metadata": {},
   "outputs": [],
   "source": [
    "url = \"https://raw.githubusercontent.com/joaopmts/Data-Engineering/main/Distributed-Data-Processing-and-Storage/REPO/results%20(1).csv\"\n",
    "\n",
    "local_csv = \"results_1.csv\"\n",
    "\n",
    "res = requests.get(url)\n",
    "with open(local_csv, \"wb\") as f:\n",
    "    f.write(res.content)\n",
    "\n",
    "file_path = 'file://' + os.path.abspath(local_csv)\n",
    "results = spark.read.csv(file_path, header=True, inferSchema=True)"
   ]
  },
  {
   "cell_type": "code",
   "execution_count": 8,
   "id": "3c47693f-82f2-479a-99d3-cb8797d20eec",
   "metadata": {},
   "outputs": [
    {
     "name": "stdout",
     "output_type": "stream",
     "text": [
      "+-------------------+-------------+-------------+--------------+--------------+--------------+--------+--------------+-----------+\n",
      "|               date|home_teamName|away_teamName|home_scoreHome|away_scoreAway|tournamentName|cityCity|countryCountry|neutralTRUE|\n",
      "+-------------------+-------------+-------------+--------------+--------------+--------------+--------+--------------+-----------+\n",
      "|1872-11-30 00:00:00|     Scotland|      England|             0|             0|      Friendly| Glasgow|      Scotland|      false|\n",
      "|1873-03-08 00:00:00|      England|     Scotland|             4|             2|      Friendly|  London|       England|      false|\n",
      "+-------------------+-------------+-------------+--------------+--------------+--------------+--------+--------------+-----------+\n",
      "only showing top 2 rows\n",
      "\n"
     ]
    }
   ],
   "source": [
    "results.show(2)"
   ]
  },
  {
   "cell_type": "code",
   "execution_count": 9,
   "id": "56066298-b958-4f42-9691-d78a5c382b8b",
   "metadata": {},
   "outputs": [],
   "source": [
    "results = (\n",
    "    results\n",
    "    .drop('neutralTrue')\n",
    "    .withColumn('home_scoreHome',col('home_scoreHome').cast('int'))\n",
    "    .withColumn('away_scoreAway',col('away_scoreAway').cast('int'))\n",
    ")"
   ]
  },
  {
   "cell_type": "code",
   "execution_count": 10,
   "id": "1752671c-5d1e-48b2-b519-ae319c235025",
   "metadata": {},
   "outputs": [
    {
     "name": "stdout",
     "output_type": "stream",
     "text": [
      "root\n",
      " |-- date: timestamp (nullable = true)\n",
      " |-- home_teamName: string (nullable = true)\n",
      " |-- away_teamName: string (nullable = true)\n",
      " |-- home_scoreHome: integer (nullable = true)\n",
      " |-- away_scoreAway: integer (nullable = true)\n",
      " |-- tournamentName: string (nullable = true)\n",
      " |-- cityCity: string (nullable = true)\n",
      " |-- countryCountry: string (nullable = true)\n",
      "\n"
     ]
    }
   ],
   "source": [
    "results.printSchema()"
   ]
  },
  {
   "cell_type": "code",
   "execution_count": 11,
   "id": "75875db7-b517-4c0b-99dd-8bb7638ed339",
   "metadata": {},
   "outputs": [],
   "source": [
    "# 1 - Quantos registros existem na base?"
   ]
  },
  {
   "cell_type": "code",
   "execution_count": 12,
   "id": "aab03201-9330-4bc2-ada0-32e6e2079763",
   "metadata": {},
   "outputs": [
    {
     "data": {
      "text/plain": [
       "40839"
      ]
     },
     "execution_count": 12,
     "metadata": {},
     "output_type": "execute_result"
    }
   ],
   "source": [
    "results.count()"
   ]
  },
  {
   "cell_type": "code",
   "execution_count": 13,
   "id": "0e6e727d-5599-46e8-9681-c9b470f397fb",
   "metadata": {},
   "outputs": [],
   "source": [
    "# 2 - Quantas equipes únicas mandantes existem na base?"
   ]
  },
  {
   "cell_type": "code",
   "execution_count": 14,
   "id": "f2aad298-7805-43cd-a584-270a184ef843",
   "metadata": {},
   "outputs": [
    {
     "data": {
      "text/plain": [
       "309"
      ]
     },
     "execution_count": 14,
     "metadata": {},
     "output_type": "execute_result"
    }
   ],
   "source": [
    "results.dropDuplicates(['home_teamName']).count()"
   ]
  },
  {
   "cell_type": "code",
   "execution_count": 15,
   "id": "73a8c31d-c573-4923-b1a9-ed25c4091fb6",
   "metadata": {},
   "outputs": [],
   "source": [
    "# 3 - Quantas vezes as equipes mandantes saíram vitoriosas"
   ]
  },
  {
   "cell_type": "code",
   "execution_count": 16,
   "id": "9849fdcd-46b1-481a-b28f-267c97c65b63",
   "metadata": {},
   "outputs": [
    {
     "data": {
      "text/plain": [
       "19864"
      ]
     },
     "execution_count": 16,
     "metadata": {},
     "output_type": "execute_result"
    }
   ],
   "source": [
    "results.filter(results.home_scoreHome > results.away_scoreAway).count()"
   ]
  },
  {
   "cell_type": "code",
   "execution_count": 17,
   "id": "14e47559-fbca-440d-86d2-7bc9933e586d",
   "metadata": {},
   "outputs": [],
   "source": [
    "# 4 - Quantas vezes as equipes visitantes saíram vitoriosas?"
   ]
  },
  {
   "cell_type": "code",
   "execution_count": 18,
   "id": "6a3a7312-612d-4fab-93fa-aa3319bfcc36",
   "metadata": {},
   "outputs": [
    {
     "data": {
      "text/plain": [
       "11544"
      ]
     },
     "execution_count": 18,
     "metadata": {},
     "output_type": "execute_result"
    }
   ],
   "source": [
    "results.filter(results.home_scoreHome < results.away_scoreAway).count()"
   ]
  },
  {
   "cell_type": "code",
   "execution_count": 19,
   "id": "98c0504e-64ef-4a6d-933b-35c348942da2",
   "metadata": {},
   "outputs": [],
   "source": [
    "# 5 - Quantas partidas resultaram em empate?"
   ]
  },
  {
   "cell_type": "code",
   "execution_count": 20,
   "id": "cada17cf-997b-4513-8f2f-5dcdf1173543",
   "metadata": {},
   "outputs": [
    {
     "data": {
      "text/plain": [
       "9431"
      ]
     },
     "execution_count": 20,
     "metadata": {},
     "output_type": "execute_result"
    }
   ],
   "source": [
    "results.filter(results.home_scoreHome == results.away_scoreAway).count()"
   ]
  },
  {
   "cell_type": "code",
   "execution_count": 21,
   "id": "2e41fc1c-5007-4391-bff5-a3020a13aad2",
   "metadata": {},
   "outputs": [],
   "source": [
    "#6 - Quantas partidas foram realizadas em cada país?"
   ]
  },
  {
   "cell_type": "code",
   "execution_count": 22,
   "id": "9b1e5246-f9e7-471d-8a0f-b3e1a87bf1db",
   "metadata": {},
   "outputs": [
    {
     "name": "stdout",
     "output_type": "stream",
     "text": [
      "+--------------------+-----+\n",
      "|      countryCountry|count|\n",
      "+--------------------+-----+\n",
      "|       United States| 1144|\n",
      "|              France|  801|\n",
      "|             England|  687|\n",
      "|            Malaysia|  644|\n",
      "|              Sweden|  637|\n",
      "|             Germany|  581|\n",
      "|              Brazil|  529|\n",
      "|               Spain|  517|\n",
      "|            Thailand|  483|\n",
      "|               Italy|  480|\n",
      "|         Switzerland|  477|\n",
      "|             Austria|  475|\n",
      "|United Arab Emirates|  472|\n",
      "|        South Africa|  470|\n",
      "|               Qatar|  467|\n",
      "|         South Korea|  453|\n",
      "|           Argentina|  449|\n",
      "|             Hungary|  431|\n",
      "|               Chile|  405|\n",
      "|             Belgium|  396|\n",
      "+--------------------+-----+\n",
      "only showing top 20 rows\n",
      "\n"
     ]
    }
   ],
   "source": [
    "results.groupBy(['countryCountry']).count().orderBy('count', ascending=False).show()"
   ]
  },
  {
   "cell_type": "code",
   "execution_count": 23,
   "id": "cb321582-7cb2-47b1-a64e-0bb12f241bba",
   "metadata": {},
   "outputs": [],
   "source": [
    "# 7 - Qual país teve mais partidas? - Considerei o pais time, não pais localidade"
   ]
  },
  {
   "cell_type": "code",
   "execution_count": 24,
   "id": "feeb0ab0-4c80-43a1-84b9-2fa3c190bef9",
   "metadata": {},
   "outputs": [
    {
     "name": "stdout",
     "output_type": "stream",
     "text": [
      "+------+--------------+\n",
      "|  time|total_partidas|\n",
      "+------+--------------+\n",
      "|Sweden|          1010|\n",
      "+------+--------------+\n",
      "only showing top 1 row\n",
      "\n"
     ]
    }
   ],
   "source": [
    "df1 = results.groupBy(['home_teamName']).count().withColumnRenamed(\"count\", \"jogos_casa\")\n",
    "df2 = results.groupBy(['away_teamName']).count().withColumnRenamed(\"count\", \"jogos_fora\")\n",
    "dfjoin = df1.join(df2, df1.home_teamName == df2.away_teamName, how = 'outer')\n",
    "dfjoin = dfjoin.withColumn('total_partidas', col('jogos_casa') + col('jogos_fora')).withColumnRenamed('home_teamName','time')\n",
    "dfjoin = dfjoin.select('time','total_partidas')\n",
    "dfjoin.orderBy('total_partidas', ascending=False).show(1)"
   ]
  },
  {
   "cell_type": "code",
   "execution_count": 25,
   "id": "9bb3b4a9-315a-41d1-b250-b4ad469b476c",
   "metadata": {},
   "outputs": [],
   "source": [
    "# 8 - Qual a partida com maior número de gols?"
   ]
  },
  {
   "cell_type": "code",
   "execution_count": 26,
   "id": "4e89ccab-b1a6-4209-9a8a-ee6d5c58ad03",
   "metadata": {},
   "outputs": [
    {
     "name": "stdout",
     "output_type": "stream",
     "text": [
      "+-------------------+-------------+--------------+--------------+--------------+--------------------+-------------+--------------+----------+\n",
      "|               date|home_teamName| away_teamName|home_scoreHome|away_scoreAway|      tournamentName|     cityCity|countryCountry|total_gols|\n",
      "+-------------------+-------------+--------------+--------------+--------------+--------------------+-------------+--------------+----------+\n",
      "|2001-04-11 00:00:00|    Australia|American Samoa|            31|             0|FIFA World Cup qu...|Coffs Harbour|     Australia|        31|\n",
      "+-------------------+-------------+--------------+--------------+--------------+--------------------+-------------+--------------+----------+\n",
      "only showing top 1 row\n",
      "\n"
     ]
    }
   ],
   "source": [
    "results.withColumn('total_gols', col('home_scoreHome') + col('away_scoreAway')).orderBy('total_gols', ascending=False).show(1)"
   ]
  },
  {
   "cell_type": "code",
   "execution_count": 27,
   "id": "9700312a-77fd-4c3a-b04a-4fbdb43003f8",
   "metadata": {},
   "outputs": [],
   "source": [
    "# 9 - Qual a maior goleada?"
   ]
  },
  {
   "cell_type": "code",
   "execution_count": 28,
   "id": "90c451c2-4319-4c93-adec-fc9088063e2e",
   "metadata": {},
   "outputs": [
    {
     "name": "stdout",
     "output_type": "stream",
     "text": [
      "+-------------------+-------------+--------------+--------------+--------------+--------------------+-------------+--------------+----+\n",
      "|               date|home_teamName| away_teamName|home_scoreHome|away_scoreAway|      tournamentName|     cityCity|countryCountry|diff|\n",
      "+-------------------+-------------+--------------+--------------+--------------+--------------------+-------------+--------------+----+\n",
      "|2001-04-11 00:00:00|    Australia|American Samoa|            31|             0|FIFA World Cup qu...|Coffs Harbour|     Australia|  31|\n",
      "+-------------------+-------------+--------------+--------------+--------------+--------------------+-------------+--------------+----+\n",
      "only showing top 1 row\n",
      "\n"
     ]
    }
   ],
   "source": [
    "results.withColumn('diff', abs(col('home_scoreHome') - col('away_scoreAway'))).orderBy('diff', ascending=False).show(1)"
   ]
  },
  {
   "cell_type": "code",
   "execution_count": 29,
   "id": "67655e26-e885-4666-a67c-f97edde6be36",
   "metadata": {},
   "outputs": [],
   "source": [
    "# 10 - Quantos jogos ocorreram no Brasil?"
   ]
  },
  {
   "cell_type": "code",
   "execution_count": 30,
   "id": "8b92acf2-0cb3-4eef-9e41-2810603b12b0",
   "metadata": {},
   "outputs": [
    {
     "name": "stdout",
     "output_type": "stream",
     "text": [
      "+--------------+-----+\n",
      "|countryCountry|count|\n",
      "+--------------+-----+\n",
      "|        Brazil|  529|\n",
      "+--------------+-----+\n",
      "\n"
     ]
    }
   ],
   "source": [
    "results.where(col('countryCountry') == 'Brazil').groupBy(['countryCountry']).count().show()"
   ]
  },
  {
   "cell_type": "code",
   "execution_count": null,
   "id": "25e40f9a-9f12-4d31-bd39-ea80da022b79",
   "metadata": {},
   "outputs": [],
   "source": []
  }
 ],
 "metadata": {
  "kernelspec": {
   "display_name": "Python 3 (ipykernel)",
   "language": "python",
   "name": "python3"
  },
  "language_info": {
   "codemirror_mode": {
    "name": "ipython",
    "version": 3
   },
   "file_extension": ".py",
   "mimetype": "text/x-python",
   "name": "python",
   "nbconvert_exporter": "python",
   "pygments_lexer": "ipython3",
   "version": "3.10.8"
  }
 },
 "nbformat": 4,
 "nbformat_minor": 5
}
