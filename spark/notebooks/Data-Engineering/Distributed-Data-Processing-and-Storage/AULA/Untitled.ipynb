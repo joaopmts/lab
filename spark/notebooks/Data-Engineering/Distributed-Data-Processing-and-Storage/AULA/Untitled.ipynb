{
 "cells": [
  {
   "cell_type": "code",
   "execution_count": null,
   "id": "7615fd1d-b081-429a-8c3c-ba188d65dbc5",
   "metadata": {},
   "outputs": [
    {
     "name": "stderr",
     "output_type": "stream",
     "text": [
      "25/08/21 22:11:42 WARN MetricsConfig: Cannot locate configuration: tried hadoop-metrics2-s3a-file-system.properties,hadoop-metrics2.properties\n"
     ]
    }
   ],
   "source": [
    "from pyspark.sql import SparkSession\n",
    "\n",
    "# Inicializa a sessão Spark\n",
    "spark = (\n",
    "    SparkSession.builder\n",
    "    .appName(\"test\")\n",
    "    .master(\"spark://spark-master:7077\")\n",
    "    .getOrCreate()\n",
    ")\n",
    "\n",
    "# Caminho no MinIO (via s3a)\n",
    "path_bronze_reddit = \"s3a://bronze/reddit\"\n",
    "\n",
    "# Leitura dos arquivos CSV\n",
    "df_bronze_reddit = (\n",
    "    spark.read\n",
    "    .option(\"header\", \"true\")\n",
    "    .csv(path_bronze_reddit)\n",
    ")\n",
    "\n",
    "# Exibe as primeiras linhas e o schema\n",
    "df_bronze_reddit.show(10, truncate=False)\n",
    "df_bronze_reddit.printSchema()\n"
   ]
  },
  {
   "cell_type": "code",
   "execution_count": 1,
   "id": "90fd1f99-1716-4a3e-9479-83b0dcacb1e2",
   "metadata": {},
   "outputs": [
    {
     "name": "stderr",
     "output_type": "stream",
     "text": [
      "Setting default log level to \"WARN\".\n",
      "To adjust logging level use sc.setLogLevel(newLevel). For SparkR, use setLogLevel(newLevel).\n",
      "25/08/21 22:12:41 WARN NativeCodeLoader: Unable to load native-hadoop library for your platform... using builtin-java classes where applicable\n"
     ]
    },
    {
     "name": "stdout",
     "output_type": "stream",
     "text": [
      "=== Configurações do Spark ===\n",
      "spark.driver.port => 33295\n",
      "spark.app.name => test\n",
      "spark.hadoop.fs.s3a.path.style.access => true\n",
      "spark.app.id => app-20250821221241-0003\n",
      "spark.driver.host => spark-master\n",
      "spark.executor.id => driver\n",
      "spark.app.submitTime => 1755814361111\n",
      "spark.hadoop.fs.s3a.impl => org.apache.hadoop.fs.s3a.S3AFileSystem\n",
      "spark.hadoop.fs.s3a.access.key => eDFFCzvdNdoeLlJkZhXI\n",
      "spark.app.startTime => 1755814361249\n",
      "spark.rdd.compress => True\n",
      "spark.executor.extraJavaOptions => -Djava.net.preferIPv6Addresses=false -XX:+IgnoreUnrecognizedVMOptions --add-opens=java.base/java.lang=ALL-UNNAMED --add-opens=java.base/java.lang.invoke=ALL-UNNAMED --add-opens=java.base/java.lang.reflect=ALL-UNNAMED --add-opens=java.base/java.io=ALL-UNNAMED --add-opens=java.base/java.net=ALL-UNNAMED --add-opens=java.base/java.nio=ALL-UNNAMED --add-opens=java.base/java.util=ALL-UNNAMED --add-opens=java.base/java.util.concurrent=ALL-UNNAMED --add-opens=java.base/java.util.concurrent.atomic=ALL-UNNAMED --add-opens=java.base/jdk.internal.ref=ALL-UNNAMED --add-opens=java.base/sun.nio.ch=ALL-UNNAMED --add-opens=java.base/sun.nio.cs=ALL-UNNAMED --add-opens=java.base/sun.security.action=ALL-UNNAMED --add-opens=java.base/sun.util.calendar=ALL-UNNAMED --add-opens=java.security.jgss/sun.security.krb5=ALL-UNNAMED -Djdk.reflect.useDirectMethodHandle=false\n",
      "spark.master => spark://spark-master:7077\n",
      "spark.serializer.objectStreamReset => 100\n",
      "spark.submit.pyFiles => \n",
      "spark.submit.deployMode => client\n",
      "spark.hadoop.fs.s3a.secret.key => gU3PQYFs6K60DvP5ut52zMQJAU3M3rW4XtCY9lqb\n",
      "spark.driver.extraJavaOptions => -Djava.net.preferIPv6Addresses=false -XX:+IgnoreUnrecognizedVMOptions --add-opens=java.base/java.lang=ALL-UNNAMED --add-opens=java.base/java.lang.invoke=ALL-UNNAMED --add-opens=java.base/java.lang.reflect=ALL-UNNAMED --add-opens=java.base/java.io=ALL-UNNAMED --add-opens=java.base/java.net=ALL-UNNAMED --add-opens=java.base/java.nio=ALL-UNNAMED --add-opens=java.base/java.util=ALL-UNNAMED --add-opens=java.base/java.util.concurrent=ALL-UNNAMED --add-opens=java.base/java.util.concurrent.atomic=ALL-UNNAMED --add-opens=java.base/jdk.internal.ref=ALL-UNNAMED --add-opens=java.base/sun.nio.ch=ALL-UNNAMED --add-opens=java.base/sun.nio.cs=ALL-UNNAMED --add-opens=java.base/sun.security.action=ALL-UNNAMED --add-opens=java.base/sun.util.calendar=ALL-UNNAMED --add-opens=java.security.jgss/sun.security.krb5=ALL-UNNAMED -Djdk.reflect.useDirectMethodHandle=false --add-exports java.base/sun.nio.ch=ALL-UNNAMED\n",
      "spark.ui.showConsoleProgress => true\n",
      "spark.hadoop.fs.s3a.endpoint => http://minio-endpoint:9000\n"
     ]
    }
   ],
   "source": [
    "from pyspark.sql import SparkSession\n",
    "\n",
    "# Inicializa a sessão Spark\n",
    "spark = SparkSession.builder \\\n",
    "    .appName(\"test\") \\\n",
    "    .master(\"spark://spark-master:7077\") \\\n",
    "    .getOrCreate()\n",
    "\n",
    "# Imprime todas as configurações\n",
    "print(\"=== Configurações do Spark ===\")\n",
    "for item in spark.sparkContext.getConf().getAll():\n",
    "    print(f\"{item[0]} => {item[1]}\")\n"
   ]
  },
  {
   "cell_type": "code",
   "execution_count": null,
   "id": "6c143c6b-5267-4c97-87f6-413990734aea",
   "metadata": {},
   "outputs": [
    {
     "name": "stderr",
     "output_type": "stream",
     "text": [
      "25/08/21 22:13:24 WARN MetricsConfig: Cannot locate configuration: tried hadoop-metrics2-s3a-file-system.properties,hadoop-metrics2.properties\n",
      "25/08/21 22:15:08 ERROR TaskSchedulerImpl: Lost executor 0 on 172.18.0.10: worker lost: 172.18.0.10:37709 got disassociated\n"
     ]
    }
   ],
   "source": [
    "path_bronze_reddit = \"s3a://bronze/reddit\"\n",
    "\n",
    "# Leitura dos arquivos CSV\n",
    "df = spark.read.option(\"header\", \"true\").csv(path_bronze_reddit)\n"
   ]
  },
  {
   "cell_type": "code",
   "execution_count": null,
   "id": "fb00a3f3-92b3-4cea-a1a3-d4de496ebf53",
   "metadata": {},
   "outputs": [],
   "source": []
  }
 ],
 "metadata": {
  "kernelspec": {
   "display_name": "Python 3 (ipykernel)",
   "language": "python",
   "name": "python3"
  },
  "language_info": {
   "codemirror_mode": {
    "name": "ipython",
    "version": 3
   },
   "file_extension": ".py",
   "mimetype": "text/x-python",
   "name": "python",
   "nbconvert_exporter": "python",
   "pygments_lexer": "ipython3",
   "version": "3.12.9"
  }
 },
 "nbformat": 4,
 "nbformat_minor": 5
}
