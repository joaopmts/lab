{
 "cells": [
  {
   "cell_type": "code",
   "execution_count": 1,
   "id": "76cdc8f4-c927-47a7-aab3-e4b7a162a876",
   "metadata": {},
   "outputs": [],
   "source": [
    "from pyspark.sql import SparkSession\n",
    "from pyspark.sql.functions import col\n",
    "import pandas as pd"
   ]
  },
  {
   "cell_type": "code",
   "execution_count": 2,
   "id": "b247c0ee-a415-466d-8c56-d39635f9e974",
   "metadata": {},
   "outputs": [],
   "source": [
    "spark = SparkSession.builder.appName('Aula de Spark 5').enableHiveSupport().getOrCreate()"
   ]
  },
  {
   "cell_type": "code",
   "execution_count": 3,
   "id": "d4278338-07ca-4686-a1e9-cff17f59119e",
   "metadata": {},
   "outputs": [
    {
     "data": {
      "text/html": [
       "\n",
       "            <div>\n",
       "                <p><b>SparkSession - hive</b></p>\n",
       "                \n",
       "        <div>\n",
       "            <p><b>SparkContext</b></p>\n",
       "\n",
       "            <p><a href=\"http://spark-master:4040\">Spark UI</a></p>\n",
       "\n",
       "            <dl>\n",
       "              <dt>Version</dt>\n",
       "                <dd><code>v3.3.1</code></dd>\n",
       "              <dt>Master</dt>\n",
       "                <dd><code>local[*]</code></dd>\n",
       "              <dt>AppName</dt>\n",
       "                <dd><code>Aula de Spark 5</code></dd>\n",
       "            </dl>\n",
       "        </div>\n",
       "        \n",
       "            </div>\n",
       "        "
      ],
      "text/plain": [
       "<pyspark.sql.session.SparkSession at 0x7f935f59ee60>"
      ]
     },
     "execution_count": 3,
     "metadata": {},
     "output_type": "execute_result"
    }
   ],
   "source": [
    "spark"
   ]
  },
  {
   "cell_type": "code",
   "execution_count": null,
   "id": "3b91c9e2-f46d-4e7f-be4b-068a1b03f5e1",
   "metadata": {},
   "outputs": [],
   "source": [
    "#lendo do S3"
   ]
  },
  {
   "cell_type": "code",
   "execution_count": 4,
   "id": "69b8d9cb-7572-4c04-b9d3-bbd398469b48",
   "metadata": {},
   "outputs": [],
   "source": [
    "results = spark.read.csv('s3a://camada-bronze-aula5/futebol', header = True)"
   ]
  },
  {
   "cell_type": "code",
   "execution_count": 5,
   "id": "1e598dd8-a443-4ea4-94ca-fb215aea3395",
   "metadata": {},
   "outputs": [
    {
     "name": "stdout",
     "output_type": "stream",
     "text": [
      "+----------+-------------+-------------+--------------+--------------+--------------+--------+--------------+-----------+\n",
      "|      date|home_teamName|away_teamName|home_scoreHome|away_scoreAway|tournamentName|cityCity|countryCountry|neutralTRUE|\n",
      "+----------+-------------+-------------+--------------+--------------+--------------+--------+--------------+-----------+\n",
      "|1872-11-30|     Scotland|      England|             0|             0|      Friendly| Glasgow|      Scotland|      FALSE|\n",
      "|1873-03-08|      England|     Scotland|             4|             2|      Friendly|  London|       England|      FALSE|\n",
      "|1874-03-07|     Scotland|      England|             2|             1|      Friendly| Glasgow|      Scotland|      FALSE|\n",
      "|1875-03-06|      England|     Scotland|             2|             2|      Friendly|  London|       England|      FALSE|\n",
      "|1876-03-04|     Scotland|      England|             3|             0|      Friendly| Glasgow|      Scotland|      FALSE|\n",
      "+----------+-------------+-------------+--------------+--------------+--------------+--------+--------------+-----------+\n",
      "only showing top 5 rows\n",
      "\n"
     ]
    }
   ],
   "source": [
    "results.show(5)"
   ]
  },
  {
   "cell_type": "code",
   "execution_count": 6,
   "id": "b71dfad3-3ff4-4a52-a7fc-bad293e8df9a",
   "metadata": {},
   "outputs": [
    {
     "name": "stdout",
     "output_type": "stream",
     "text": [
      "+-------+----------+-------------+-------------+------------------+------------------+---------------+-------------------+--------------+-----------+\n",
      "|summary|      date|home_teamName|away_teamName|    home_scoreHome|    away_scoreAway| tournamentName|           cityCity|countryCountry|neutralTRUE|\n",
      "+-------+----------+-------------+-------------+------------------+------------------+---------------+-------------------+--------------+-----------+\n",
      "|  count|     40839|        40839|        40839|             40839|             40839|          40839|              40839|         40839|      40839|\n",
      "|   mean|      null|         null|         null|1.7457087587844953| 1.188104507945836|           null|               null|          null|       null|\n",
      "| stddev|      null|         null|         null| 1.749144918253105|1.4051198000976632|           null|               null|          null|       null|\n",
      "|    min|1872-11-30|     Abkhazia|     Abkhazia|                 0|                 0|ABCS Tournament|6th of October City|   Afghanistan|      FALSE|\n",
      "|    max|2019-07-20|Åland Islands|Åland Islands|                 9|                 9|World Unity Cup|             ‘Atele|          Éire|       TRUE|\n",
      "+-------+----------+-------------+-------------+------------------+------------------+---------------+-------------------+--------------+-----------+\n",
      "\n"
     ]
    }
   ],
   "source": [
    "results.describe().show()"
   ]
  },
  {
   "cell_type": "code",
   "execution_count": 7,
   "id": "5883c996-4b52-487d-859c-99a1d618c167",
   "metadata": {},
   "outputs": [
    {
     "name": "stdout",
     "output_type": "stream",
     "text": [
      "root\n",
      " |-- date: string (nullable = true)\n",
      " |-- home_teamName: string (nullable = true)\n",
      " |-- away_teamName: string (nullable = true)\n",
      " |-- home_scoreHome: string (nullable = true)\n",
      " |-- away_scoreAway: string (nullable = true)\n",
      " |-- tournamentName: string (nullable = true)\n",
      " |-- cityCity: string (nullable = true)\n",
      " |-- countryCountry: string (nullable = true)\n",
      " |-- neutralTRUE: string (nullable = true)\n",
      "\n"
     ]
    }
   ],
   "source": [
    "results.printSchema()"
   ]
  },
  {
   "cell_type": "code",
   "execution_count": null,
   "id": "abddb29e-5341-4365-b92f-dbd12f5df9b7",
   "metadata": {},
   "outputs": [],
   "source": [
    "# renomeando e mundando tipo"
   ]
  },
  {
   "cell_type": "code",
   "execution_count": 8,
   "id": "2fb6f584-624a-4dfc-9109-1af386394b2f",
   "metadata": {},
   "outputs": [],
   "source": [
    "partidas = (\n",
    "    results\n",
    "    .drop('neutralTrue')\n",
    "    .withColumnRenamed('date','DATA')\n",
    "    .withColumnRenamed('home_teamName','MANDANTE')\n",
    "    .withColumnRenamed('away_teamName','VISITANTE')\n",
    "    .withColumnRenamed('home_scoreHome','GOL_MANDANTE').withColumn('GOL_MANDANTE',col('GOL_MANDANTE').cast('int'))\n",
    "    .withColumnRenamed('away_scoreAway','GOL_VISITANTE').withColumn('GOL_VISITANTE',col('GOL_VISITANTE').cast('int'))\n",
    "    .withColumnRenamed('tournamentName','TORNEIO')\n",
    "    .withColumnRenamed('cityCity','CIDADE')\n",
    "    .withColumnRenamed('countryCountry','PAIS')\n",
    ")"
   ]
  },
  {
   "cell_type": "code",
   "execution_count": 9,
   "id": "320da856-bb0f-470f-afdf-4a0ab0af2f70",
   "metadata": {},
   "outputs": [
    {
     "name": "stdout",
     "output_type": "stream",
     "text": [
      "root\n",
      " |-- DATA: string (nullable = true)\n",
      " |-- MANDANTE: string (nullable = true)\n",
      " |-- VISITANTE: string (nullable = true)\n",
      " |-- GOL_MANDANTE: integer (nullable = true)\n",
      " |-- GOL_VISITANTE: integer (nullable = true)\n",
      " |-- TORNEIO: string (nullable = true)\n",
      " |-- CIDADE: string (nullable = true)\n",
      " |-- PAIS: string (nullable = true)\n",
      "\n"
     ]
    }
   ],
   "source": [
    "partidas.printSchema()"
   ]
  },
  {
   "cell_type": "code",
   "execution_count": 10,
   "id": "f26a199a-6bc1-4ab6-87a8-dba5660507c2",
   "metadata": {},
   "outputs": [],
   "source": [
    "partidas_pandas = partidas.toPandas()"
   ]
  },
  {
   "cell_type": "code",
   "execution_count": 11,
   "id": "77d1d745-fb8c-4f3f-95d5-5a01f2b56682",
   "metadata": {},
   "outputs": [
    {
     "data": {
      "text/html": [
       "<div>\n",
       "<style scoped>\n",
       "    .dataframe tbody tr th:only-of-type {\n",
       "        vertical-align: middle;\n",
       "    }\n",
       "\n",
       "    .dataframe tbody tr th {\n",
       "        vertical-align: top;\n",
       "    }\n",
       "\n",
       "    .dataframe thead th {\n",
       "        text-align: right;\n",
       "    }\n",
       "</style>\n",
       "<table border=\"1\" class=\"dataframe\">\n",
       "  <thead>\n",
       "    <tr style=\"text-align: right;\">\n",
       "      <th></th>\n",
       "      <th>DATA</th>\n",
       "      <th>MANDANTE</th>\n",
       "      <th>VISITANTE</th>\n",
       "      <th>GOL_MANDANTE</th>\n",
       "      <th>GOL_VISITANTE</th>\n",
       "      <th>TORNEIO</th>\n",
       "      <th>CIDADE</th>\n",
       "      <th>PAIS</th>\n",
       "    </tr>\n",
       "  </thead>\n",
       "  <tbody>\n",
       "    <tr>\n",
       "      <th>0</th>\n",
       "      <td>1872-11-30</td>\n",
       "      <td>Scotland</td>\n",
       "      <td>England</td>\n",
       "      <td>0</td>\n",
       "      <td>0</td>\n",
       "      <td>Friendly</td>\n",
       "      <td>Glasgow</td>\n",
       "      <td>Scotland</td>\n",
       "    </tr>\n",
       "    <tr>\n",
       "      <th>1</th>\n",
       "      <td>1873-03-08</td>\n",
       "      <td>England</td>\n",
       "      <td>Scotland</td>\n",
       "      <td>4</td>\n",
       "      <td>2</td>\n",
       "      <td>Friendly</td>\n",
       "      <td>London</td>\n",
       "      <td>England</td>\n",
       "    </tr>\n",
       "    <tr>\n",
       "      <th>2</th>\n",
       "      <td>1874-03-07</td>\n",
       "      <td>Scotland</td>\n",
       "      <td>England</td>\n",
       "      <td>2</td>\n",
       "      <td>1</td>\n",
       "      <td>Friendly</td>\n",
       "      <td>Glasgow</td>\n",
       "      <td>Scotland</td>\n",
       "    </tr>\n",
       "    <tr>\n",
       "      <th>3</th>\n",
       "      <td>1875-03-06</td>\n",
       "      <td>England</td>\n",
       "      <td>Scotland</td>\n",
       "      <td>2</td>\n",
       "      <td>2</td>\n",
       "      <td>Friendly</td>\n",
       "      <td>London</td>\n",
       "      <td>England</td>\n",
       "    </tr>\n",
       "    <tr>\n",
       "      <th>4</th>\n",
       "      <td>1876-03-04</td>\n",
       "      <td>Scotland</td>\n",
       "      <td>England</td>\n",
       "      <td>3</td>\n",
       "      <td>0</td>\n",
       "      <td>Friendly</td>\n",
       "      <td>Glasgow</td>\n",
       "      <td>Scotland</td>\n",
       "    </tr>\n",
       "    <tr>\n",
       "      <th>...</th>\n",
       "      <td>...</td>\n",
       "      <td>...</td>\n",
       "      <td>...</td>\n",
       "      <td>...</td>\n",
       "      <td>...</td>\n",
       "      <td>...</td>\n",
       "      <td>...</td>\n",
       "      <td>...</td>\n",
       "    </tr>\n",
       "    <tr>\n",
       "      <th>40834</th>\n",
       "      <td>2019-07-18</td>\n",
       "      <td>American Samoa</td>\n",
       "      <td>Tahiti</td>\n",
       "      <td>8</td>\n",
       "      <td>1</td>\n",
       "      <td>Pacific Games</td>\n",
       "      <td>Apia</td>\n",
       "      <td>Samoa</td>\n",
       "    </tr>\n",
       "    <tr>\n",
       "      <th>40835</th>\n",
       "      <td>2019-07-18</td>\n",
       "      <td>Fiji</td>\n",
       "      <td>Solomon Islands</td>\n",
       "      <td>4</td>\n",
       "      <td>4</td>\n",
       "      <td>Pacific Games</td>\n",
       "      <td>Apia</td>\n",
       "      <td>Samoa</td>\n",
       "    </tr>\n",
       "    <tr>\n",
       "      <th>40836</th>\n",
       "      <td>2019-07-19</td>\n",
       "      <td>Senegal</td>\n",
       "      <td>Algeria</td>\n",
       "      <td>0</td>\n",
       "      <td>1</td>\n",
       "      <td>African Cup of Nations</td>\n",
       "      <td>Cairo</td>\n",
       "      <td>Egypt</td>\n",
       "    </tr>\n",
       "    <tr>\n",
       "      <th>40837</th>\n",
       "      <td>2019-07-19</td>\n",
       "      <td>Tajikistan</td>\n",
       "      <td>North Korea</td>\n",
       "      <td>0</td>\n",
       "      <td>1</td>\n",
       "      <td>Intercontinental Cup</td>\n",
       "      <td>Ahmedabad</td>\n",
       "      <td>India</td>\n",
       "    </tr>\n",
       "    <tr>\n",
       "      <th>40838</th>\n",
       "      <td>2019-07-20</td>\n",
       "      <td>Papua New Guinea</td>\n",
       "      <td>Fiji</td>\n",
       "      <td>1</td>\n",
       "      <td>1</td>\n",
       "      <td>Pacific Games</td>\n",
       "      <td>Apia</td>\n",
       "      <td>Samoa</td>\n",
       "    </tr>\n",
       "  </tbody>\n",
       "</table>\n",
       "<p>40839 rows × 8 columns</p>\n",
       "</div>"
      ],
      "text/plain": [
       "             DATA          MANDANTE        VISITANTE  GOL_MANDANTE  \\\n",
       "0      1872-11-30          Scotland          England             0   \n",
       "1      1873-03-08           England         Scotland             4   \n",
       "2      1874-03-07          Scotland          England             2   \n",
       "3      1875-03-06           England         Scotland             2   \n",
       "4      1876-03-04          Scotland          England             3   \n",
       "...           ...               ...              ...           ...   \n",
       "40834  2019-07-18    American Samoa           Tahiti             8   \n",
       "40835  2019-07-18              Fiji  Solomon Islands             4   \n",
       "40836  2019-07-19           Senegal          Algeria             0   \n",
       "40837  2019-07-19        Tajikistan      North Korea             0   \n",
       "40838  2019-07-20  Papua New Guinea             Fiji             1   \n",
       "\n",
       "       GOL_VISITANTE                 TORNEIO     CIDADE      PAIS  \n",
       "0                  0                Friendly    Glasgow  Scotland  \n",
       "1                  2                Friendly     London   England  \n",
       "2                  1                Friendly    Glasgow  Scotland  \n",
       "3                  2                Friendly     London   England  \n",
       "4                  0                Friendly    Glasgow  Scotland  \n",
       "...              ...                     ...        ...       ...  \n",
       "40834              1           Pacific Games       Apia     Samoa  \n",
       "40835              4           Pacific Games       Apia     Samoa  \n",
       "40836              1  African Cup of Nations      Cairo     Egypt  \n",
       "40837              1    Intercontinental Cup  Ahmedabad     India  \n",
       "40838              1           Pacific Games       Apia     Samoa  \n",
       "\n",
       "[40839 rows x 8 columns]"
      ]
     },
     "execution_count": 11,
     "metadata": {},
     "output_type": "execute_result"
    }
   ],
   "source": [
    "partidas_pandas"
   ]
  },
  {
   "cell_type": "markdown",
   "id": "149a402b-ba13-4bf0-9eaa-6b2a6aefc1e5",
   "metadata": {},
   "source": [
    "# Python (Pyspark)\n",
    "# SQL"
   ]
  },
  {
   "cell_type": "code",
   "execution_count": null,
   "id": "007789f3-ae37-43bd-90a4-488f6a433068",
   "metadata": {},
   "outputs": [],
   "source": [
    "#convetendo para sql"
   ]
  },
  {
   "cell_type": "code",
   "execution_count": 12,
   "id": "359ce03a-a7e5-4960-8f5d-2cf41e1e585f",
   "metadata": {},
   "outputs": [],
   "source": [
    "partidas.createOrReplaceTempView('v_partidas')"
   ]
  },
  {
   "cell_type": "code",
   "execution_count": 13,
   "id": "66736af3-6ef6-4be8-8f01-4f689cb45811",
   "metadata": {},
   "outputs": [
    {
     "name": "stdout",
     "output_type": "stream",
     "text": [
      "+----------+--------+---------+------------+-------------+--------+-------+--------+\n",
      "|      DATA|MANDANTE|VISITANTE|GOL_MANDANTE|GOL_VISITANTE| TORNEIO| CIDADE|    PAIS|\n",
      "+----------+--------+---------+------------+-------------+--------+-------+--------+\n",
      "|1872-11-30|Scotland|  England|           0|            0|Friendly|Glasgow|Scotland|\n",
      "|1873-03-08| England| Scotland|           4|            2|Friendly| London| England|\n",
      "+----------+--------+---------+------------+-------------+--------+-------+--------+\n",
      "\n"
     ]
    }
   ],
   "source": [
    "spark.sql('select * from v_partidas limit 2').show()"
   ]
  },
  {
   "cell_type": "code",
   "execution_count": 14,
   "id": "7f7bad99-2adf-4815-9f44-89191e975c48",
   "metadata": {},
   "outputs": [
    {
     "name": "stdout",
     "output_type": "stream",
     "text": [
      "+-------+----------+-------------+-------------+------------------+------------------+---------------+-------------------+-----------+\n",
      "|summary|      DATA|     MANDANTE|    VISITANTE|      GOL_MANDANTE|     GOL_VISITANTE|        TORNEIO|             CIDADE|       PAIS|\n",
      "+-------+----------+-------------+-------------+------------------+------------------+---------------+-------------------+-----------+\n",
      "|  count|     40839|        40839|        40839|             40839|             40839|          40839|              40839|      40839|\n",
      "|   mean|      null|         null|         null|1.7457087587844953| 1.188104507945836|           null|               null|       null|\n",
      "| stddev|      null|         null|         null| 1.749144918253105|1.4051198000976632|           null|               null|       null|\n",
      "|    min|1872-11-30|     Abkhazia|     Abkhazia|                 0|                 0|ABCS Tournament|6th of October City|Afghanistan|\n",
      "|    max|2019-07-20|Åland Islands|Åland Islands|                31|                21|World Unity Cup|             ‘Atele|       Éire|\n",
      "+-------+----------+-------------+-------------+------------------+------------------+---------------+-------------------+-----------+\n",
      "\n"
     ]
    }
   ],
   "source": [
    "partidas.describe().show()"
   ]
  },
  {
   "cell_type": "code",
   "execution_count": 26,
   "id": "59857401-13ac-4ec5-8ff5-527e38890de6",
   "metadata": {},
   "outputs": [
    {
     "name": "stdout",
     "output_type": "stream",
     "text": [
      "+---------------------------+\n",
      "|TORNEIO                    |\n",
      "+---------------------------+\n",
      "|ABCS Tournament            |\n",
      "|AFC Asian Cup              |\n",
      "|AFC Asian Cup qualification|\n",
      "+---------------------------+\n",
      "only showing top 3 rows\n",
      "\n"
     ]
    }
   ],
   "source": [
    "(\n",
    "    partidas \\\n",
    "        .select('TORNEIO') \\\n",
    "        .distinct() \\\n",
    "        .orderBy('TORNEIO') \\\n",
    "        .show(3,truncate=False)\n",
    ")"
   ]
  },
  {
   "cell_type": "code",
   "execution_count": 31,
   "id": "abde7707-e8cb-4a4d-9189-a17ac13a7276",
   "metadata": {},
   "outputs": [
    {
     "name": "stdout",
     "output_type": "stream",
     "text": [
      "+---------------------------+\n",
      "|torneio                    |\n",
      "+---------------------------+\n",
      "|ABCS Tournament            |\n",
      "|AFC Asian Cup              |\n",
      "|AFC Asian Cup qualification|\n",
      "+---------------------------+\n",
      "only showing top 3 rows\n",
      "\n"
     ]
    }
   ],
   "source": [
    "spark.sql('select distinct torneio from v_partidas order by 1').show(3,truncate=False)"
   ]
  },
  {
   "cell_type": "code",
   "execution_count": 43,
   "id": "0775fc8c-89c6-4e05-ad98-2306b98f1980",
   "metadata": {},
   "outputs": [
    {
     "name": "stdout",
     "output_type": "stream",
     "text": [
      "+------------------------------------+--------------+\n",
      "|TORNEIO                             |total_partidas|\n",
      "+------------------------------------+--------------+\n",
      "|Friendly                            |16911         |\n",
      "|FIFA World Cup qualification        |7100          |\n",
      "|UEFA Euro qualification             |2432          |\n",
      "|African Cup of Nations qualification|1616          |\n",
      "|FIFA World Cup                      |900           |\n",
      "|Copa América                        |813           |\n",
      "|AFC Asian Cup qualification         |724           |\n",
      "|African Cup of Nations              |690           |\n",
      "|CECAFA Cup                          |620           |\n",
      "|CFU Caribbean Cup qualification     |606           |\n",
      "+------------------------------------+--------------+\n",
      "only showing top 10 rows\n",
      "\n"
     ]
    }
   ],
   "source": [
    "spark.sql('SELECT TORNEIO, COUNT(DATA) AS total_partidas \\\n",
    "FROM v_partidas \\\n",
    "GROUP BY TORNEIO \\\n",
    "ORDER BY total_partidas desc;').show(10, truncate=False)"
   ]
  },
  {
   "cell_type": "code",
   "execution_count": 42,
   "id": "490e0fee-24bc-456b-bb14-22e9c166403f",
   "metadata": {},
   "outputs": [
    {
     "name": "stdout",
     "output_type": "stream",
     "text": [
      "+----------------------------+-----+\n",
      "|TORNEIO                     |count|\n",
      "+----------------------------+-----+\n",
      "|Friendly                    |16911|\n",
      "|FIFA World Cup qualification|7100 |\n",
      "|UEFA Euro qualification     |2432 |\n",
      "+----------------------------+-----+\n",
      "only showing top 3 rows\n",
      "\n"
     ]
    }
   ],
   "source": [
    "(\n",
    "    partidas\n",
    "    .select('TORNEIO')\n",
    "    .groupBy('TORNEIO')\n",
    "    .count()\n",
    "    .orderBy('count', ascending=False)\n",
    "    .show(3,truncate=False)\n",
    ")"
   ]
  },
  {
   "cell_type": "code",
   "execution_count": 63,
   "id": "533e5458-44ef-40ac-b36d-d395e5a00d1c",
   "metadata": {},
   "outputs": [],
   "source": [
    "df_fwc_brasil = (\n",
    "    partidas\n",
    "    .filter(partidas.TORNEIO == \"FIFA World Cup\")\n",
    "    .filter((partidas.MANDANTE == \"Brazil\") | (partidas.VISITANTE == \"Brazil\"))\n",
    ")"
   ]
  },
  {
   "cell_type": "code",
   "execution_count": 64,
   "id": "92ea66eb-d8b5-437d-8350-e63f1f4c863a",
   "metadata": {},
   "outputs": [
    {
     "data": {
      "text/plain": [
       "109"
      ]
     },
     "execution_count": 64,
     "metadata": {},
     "output_type": "execute_result"
    }
   ],
   "source": [
    "df_fwc_brasil.count()"
   ]
  },
  {
   "cell_type": "code",
   "execution_count": 69,
   "id": "89695776-3ef4-4845-aeb0-ac1ceeee89ec",
   "metadata": {},
   "outputs": [
    {
     "data": {
      "text/plain": [
       "DataFrame[summary: string, DATA: string, MANDANTE: string, VISITANTE: string, GOL_MANDANTE: string, GOL_VISITANTE: string, TORNEIO: string, CIDADE: string, PAIS: string]"
      ]
     },
     "execution_count": 69,
     "metadata": {},
     "output_type": "execute_result"
    }
   ],
   "source": [
    "df_fwc_brasil.describe()"
   ]
  },
  {
   "cell_type": "code",
   "execution_count": 65,
   "id": "3ffde421-c81c-48b7-9361-cbf4dc0f5300",
   "metadata": {},
   "outputs": [],
   "source": [
    "#QUANTAS PARTIDAS BRASIL EMPATOU"
   ]
  },
  {
   "cell_type": "code",
   "execution_count": 73,
   "id": "40624d26-c8eb-42cc-b5a8-270c3863b608",
   "metadata": {},
   "outputs": [
    {
     "data": {
      "text/plain": [
       "18"
      ]
     },
     "execution_count": 73,
     "metadata": {},
     "output_type": "execute_result"
    }
   ],
   "source": [
    "df_fwc_brasil \\\n",
    "    .filter(df_fwc_brasil.GOL_MANDANTE == df_fwc_brasil.GOL_VISITANTE).count()"
   ]
  },
  {
   "cell_type": "code",
   "execution_count": 67,
   "id": "c5b4d296-5259-4288-91ce-4b1a9e8bbac6",
   "metadata": {},
   "outputs": [],
   "source": [
    "#QUANTAS PARTIDAS BRASIL GANHOU"
   ]
  },
  {
   "cell_type": "code",
   "execution_count": 84,
   "id": "5de03e80-105a-4f88-8bd6-d9072649752e",
   "metadata": {},
   "outputs": [
    {
     "data": {
      "text/plain": [
       "73"
      ]
     },
     "execution_count": 84,
     "metadata": {},
     "output_type": "execute_result"
    }
   ],
   "source": [
    "(\n",
    "df_fwc_brasil\n",
    "    .filter(((df_fwc_brasil.GOL_MANDANTE > df_fwc_brasil.GOL_VISITANTE) & (df_fwc_brasil.MANDANTE == 'Brazil'))\n",
    "    |\n",
    "    ((df_fwc_brasil.GOL_MANDANTE < df_fwc_brasil.GOL_VISITANTE) & (df_fwc_brasil.VISITANTE == 'Brazil'))).count()\n",
    ")"
   ]
  },
  {
   "cell_type": "code",
   "execution_count": null,
   "id": "348f5c48-5cd6-4bd2-a34b-7f7a6059de78",
   "metadata": {},
   "outputs": [],
   "source": [
    "#QUANTAS PARTIDAS BRASIL PERDEU"
   ]
  },
  {
   "cell_type": "code",
   "execution_count": 86,
   "id": "e5e20a1c-2adc-45d8-813d-83724f240ca0",
   "metadata": {},
   "outputs": [
    {
     "name": "stdout",
     "output_type": "stream",
     "text": [
      "+----------+-----------+-----------+------------+-------------+--------------+-----------------+------------+\n",
      "|      DATA|   MANDANTE|  VISITANTE|GOL_MANDANTE|GOL_VISITANTE|       TORNEIO|           CIDADE|        PAIS|\n",
      "+----------+-----------+-----------+------------+-------------+--------------+-----------------+------------+\n",
      "|1930-07-14|     Brazil| Yugoslavia|           1|            2|FIFA World Cup|       Montevideo|     Uruguay|\n",
      "|1934-05-27|     Brazil|      Spain|           1|            3|FIFA World Cup|            Genoa|       Italy|\n",
      "|1938-06-16|     Brazil|      Italy|           1|            2|FIFA World Cup|        Marseille|      France|\n",
      "|1950-07-16|     Brazil|    Uruguay|           1|            2|FIFA World Cup|   Rio de Janeiro|      Brazil|\n",
      "|1954-06-27|     Brazil|    Hungary|           2|            4|FIFA World Cup|            Berne| Switzerland|\n",
      "|1966-07-15|     Brazil|    Hungary|           1|            3|FIFA World Cup|        Liverpool|     England|\n",
      "|1966-07-19|     Brazil|   Portugal|           1|            3|FIFA World Cup|        Liverpool|     England|\n",
      "|1974-07-03|Netherlands|     Brazil|           2|            0|FIFA World Cup|         Dortmund|     Germany|\n",
      "|1974-07-06|     Brazil|     Poland|           0|            1|FIFA World Cup|           Munich|     Germany|\n",
      "|1982-07-05|      Italy|     Brazil|           3|            2|FIFA World Cup|        Barcelona|       Spain|\n",
      "|1990-06-24|     Brazil|  Argentina|           0|            1|FIFA World Cup|            Turin|       Italy|\n",
      "|1998-06-23|     Brazil|     Norway|           1|            2|FIFA World Cup|        Marseille|      France|\n",
      "|1998-07-12|     France|     Brazil|           3|            0|FIFA World Cup|      Saint-Denis|      France|\n",
      "|2006-07-01|     Brazil|     France|           0|            1|FIFA World Cup|Frankfurt am Main|     Germany|\n",
      "|2010-07-02|Netherlands|     Brazil|           2|            1|FIFA World Cup|   Port Elizabeth|South Africa|\n",
      "|2014-07-08|     Brazil|    Germany|           1|            7|FIFA World Cup|   Belo Horizonte|      Brazil|\n",
      "|2014-07-12|     Brazil|Netherlands|           0|            3|FIFA World Cup|         Brasília|      Brazil|\n",
      "|2018-07-06|     Brazil|    Belgium|           1|            2|FIFA World Cup|            Kazan|      Russia|\n",
      "+----------+-----------+-----------+------------+-------------+--------------+-----------------+------------+\n",
      "\n"
     ]
    }
   ],
   "source": [
    "(\n",
    "df_fwc_brasil\n",
    "    .filter(((df_fwc_brasil.GOL_MANDANTE > df_fwc_brasil.GOL_VISITANTE) & (df_fwc_brasil.VISITANTE == 'Brazil'))\n",
    "    |\n",
    "    ((df_fwc_brasil.GOL_MANDANTE < df_fwc_brasil.GOL_VISITANTE) & (df_fwc_brasil.MANDANTE == 'Brazil'))).show()\n",
    ")"
   ]
  },
  {
   "cell_type": "code",
   "execution_count": 87,
   "id": "d4686bad-4503-4a06-95c9-ccfd3ffd42fd",
   "metadata": {},
   "outputs": [],
   "source": [
    "df_fwc_brasil.createOrReplaceTempView('v_brasil_fwc')"
   ]
  },
  {
   "cell_type": "code",
   "execution_count": 89,
   "id": "4a4a774e-6926-4287-93e7-a229d337271e",
   "metadata": {},
   "outputs": [
    {
     "name": "stdout",
     "output_type": "stream",
     "text": [
      "+----------+---------+--------------+------------+-------------+--------------+-----------------+-------------+\n",
      "|      DATA| MANDANTE|     VISITANTE|GOL_MANDANTE|GOL_VISITANTE|       TORNEIO|           CIDADE|         PAIS|\n",
      "+----------+---------+--------------+------------+-------------+--------------+-----------------+-------------+\n",
      "|1938-06-12|   Brazil|Czechoslovakia|           1|            1|FIFA World Cup|         Bordeaux|       France|\n",
      "|1950-06-28|   Brazil|   Switzerland|           2|            2|FIFA World Cup|        São Paulo|       Brazil|\n",
      "|1954-06-19|   Brazil|    Yugoslavia|           1|            1|FIFA World Cup|         Lausanne|  Switzerland|\n",
      "|1958-06-11|   Brazil|       England|           0|            0|FIFA World Cup|       Gothenburg|       Sweden|\n",
      "|1962-06-02|   Brazil|Czechoslovakia|           0|            0|FIFA World Cup|     Viña del Mar|        Chile|\n",
      "|1974-06-13|   Brazil|    Yugoslavia|           0|            0|FIFA World Cup|Frankfurt am Main|      Germany|\n",
      "|1974-06-18| Scotland|        Brazil|           0|            0|FIFA World Cup|Frankfurt am Main|      Germany|\n",
      "|1978-06-03|   Brazil|        Sweden|           1|            1|FIFA World Cup|    Mar del Plata|    Argentina|\n",
      "|1978-06-07|   Brazil|         Spain|           0|            0|FIFA World Cup|    Mar del Plata|    Argentina|\n",
      "|1978-06-18|Argentina|        Brazil|           0|            0|FIFA World Cup|          Rosario|    Argentina|\n",
      "|1986-06-21|   Brazil|        France|           1|            1|FIFA World Cup|      Guadalajara|       Mexico|\n",
      "|1994-06-28|   Brazil|        Sweden|           1|            1|FIFA World Cup|          Pontiac|United States|\n",
      "|1994-07-17|   Brazil|         Italy|           0|            0|FIFA World Cup|         Pasadena|United States|\n",
      "|1998-07-07|   Brazil|   Netherlands|           1|            1|FIFA World Cup|        Marseille|       France|\n",
      "|2010-06-25| Portugal|        Brazil|           0|            0|FIFA World Cup|           Durban| South Africa|\n",
      "|2014-06-17|   Brazil|        Mexico|           0|            0|FIFA World Cup|        Fortaleza|       Brazil|\n",
      "|2014-06-28|   Brazil|         Chile|           1|            1|FIFA World Cup|   Belo Horizonte|       Brazil|\n",
      "|2018-06-17|   Brazil|   Switzerland|           1|            1|FIFA World Cup|    Rostov-on-Don|       Russia|\n",
      "+----------+---------+--------------+------------+-------------+--------------+-----------------+-------------+\n",
      "\n"
     ]
    }
   ],
   "source": [
    "spark.sql('select * from v_brasil_fwc where GOL_MANDANTE = GOL_VISITANTE').show()"
   ]
  },
  {
   "cell_type": "code",
   "execution_count": 100,
   "id": "a6d81d71-a90c-4619-9377-fe714285e799",
   "metadata": {},
   "outputs": [
    {
     "data": {
      "text/plain": [
       "73"
      ]
     },
     "execution_count": 100,
     "metadata": {},
     "output_type": "execute_result"
    }
   ],
   "source": [
    "spark.sql(\" \\\n",
    "    SELECT * \\\n",
    "    FROM v_brasil_fwc \\\n",
    "    WHERE  \\\n",
    "        (GOL_MANDANTE > GOL_VISITANTE AND MANDANTE = 'Brazil')  \\\n",
    "        OR \\\n",
    "        (GOL_MANDANTE < GOL_VISITANTE AND VISITANTE = 'Brazil')\\\n",
    "\").count()\n"
   ]
  },
  {
   "cell_type": "code",
   "execution_count": 96,
   "id": "5d256fa7-489c-41f4-a25f-aaf6f2a12c59",
   "metadata": {},
   "outputs": [
    {
     "data": {
      "text/plain": [
       "18"
      ]
     },
     "execution_count": 96,
     "metadata": {},
     "output_type": "execute_result"
    }
   ],
   "source": [
    "spark.sql('select * from v_brasil_fwc where (GOL_MANDANTE < GOL_VISITANTE and MANDANTE = \"Brazil\") or (GOL_MANDANTE > GOL_VISITANTE and VISITANTE = \"Brazil\") ').count()"
   ]
  },
  {
   "cell_type": "code",
   "execution_count": null,
   "id": "651fd948-d501-4db3-8710-91c89b255c3b",
   "metadata": {},
   "outputs": [],
   "source": []
  }
 ],
 "metadata": {
  "kernelspec": {
   "display_name": "Python 3 (ipykernel)",
   "language": "python",
   "name": "python3"
  },
  "language_info": {
   "codemirror_mode": {
    "name": "ipython",
    "version": 3
   },
   "file_extension": ".py",
   "mimetype": "text/x-python",
   "name": "python",
   "nbconvert_exporter": "python",
   "pygments_lexer": "ipython3",
   "version": "3.10.8"
  }
 },
 "nbformat": 4,
 "nbformat_minor": 5
}
