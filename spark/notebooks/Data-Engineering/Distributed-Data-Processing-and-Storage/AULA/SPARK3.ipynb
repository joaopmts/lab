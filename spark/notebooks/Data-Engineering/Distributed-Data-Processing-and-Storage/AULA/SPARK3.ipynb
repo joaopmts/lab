{
 "cells": [
  {
   "cell_type": "code",
   "execution_count": 2,
   "id": "80addcf4-b1a9-4654-b2e1-ed26203953e5",
   "metadata": {},
   "outputs": [],
   "source": [
    "from pyspark.sql import SparkSession\n",
    "from delta.tables import DeltaTable"
   ]
  },
  {
   "cell_type": "code",
   "execution_count": 4,
   "id": "13c9783c-c89f-44ef-8f78-33fd5c42d4a4",
   "metadata": {},
   "outputs": [],
   "source": [
    "spark = (\n",
    "    SparkSession\n",
    "    .builder\n",
    "    .appName('LakeHouse')\n",
    "    .config('spark.sql.extensions','io.delta.sql.DeltaSparkSessionExtension')\n",
    "    .config('spark.sql.catalog.spark_catalog','org.apache.spark.sql.delta.catalog.DeltaCatalog')\n",
    "    .getOrCreate()\n",
    ")"
   ]
  },
  {
   "cell_type": "code",
   "execution_count": 5,
   "id": "538735ef-b73d-4d87-9425-f09a1770515c",
   "metadata": {},
   "outputs": [
    {
     "data": {
      "text/html": [
       "\n",
       "            <div>\n",
       "                <p><b>SparkSession - in-memory</b></p>\n",
       "                \n",
       "        <div>\n",
       "            <p><b>SparkContext</b></p>\n",
       "\n",
       "            <p><a href=\"http://spark-master:4041\">Spark UI</a></p>\n",
       "\n",
       "            <dl>\n",
       "              <dt>Version</dt>\n",
       "                <dd><code>v3.3.1</code></dd>\n",
       "              <dt>Master</dt>\n",
       "                <dd><code>local[*]</code></dd>\n",
       "              <dt>AppName</dt>\n",
       "                <dd><code>LakeHouse</code></dd>\n",
       "            </dl>\n",
       "        </div>\n",
       "        \n",
       "            </div>\n",
       "        "
      ],
      "text/plain": [
       "<pyspark.sql.session.SparkSession at 0x7effa4981150>"
      ]
     },
     "execution_count": 5,
     "metadata": {},
     "output_type": "execute_result"
    }
   ],
   "source": [
    "spark"
   ]
  },
  {
   "cell_type": "code",
   "execution_count": 6,
   "id": "c63a24ab-76c7-43a5-b9b3-0bbfb79d06d3",
   "metadata": {},
   "outputs": [],
   "source": [
    "raw = 's3a://camada-bronze-aula5/futebol'\n",
    "trusted = 's3a://camada-prata-aula5/futebol'"
   ]
  },
  {
   "cell_type": "code",
   "execution_count": 7,
   "id": "aa06e688-80d3-4ba5-83d5-67a5e2a1ded6",
   "metadata": {},
   "outputs": [],
   "source": [
    "df = spark.read.csv(raw, header = True)"
   ]
  },
  {
   "cell_type": "code",
   "execution_count": 8,
   "id": "c0a46ebf-cd48-45fe-b528-14c17c7808cd",
   "metadata": {},
   "outputs": [
    {
     "name": "stdout",
     "output_type": "stream",
     "text": [
      "+----------+----------------+-------------+--------------+--------------+--------------+---------+-------------------+-----------+\n",
      "|      date|   home_teamName|away_teamName|home_scoreHome|away_scoreAway|tournamentName| cityCity|     countryCountry|neutralTRUE|\n",
      "+----------+----------------+-------------+--------------+--------------+--------------+---------+-------------------+-----------+\n",
      "|1872-11-30|        Scotland|      England|             0|             0|      Friendly|  Glasgow|           Scotland|      FALSE|\n",
      "|1873-03-08|         England|     Scotland|             4|             2|      Friendly|   London|            England|      FALSE|\n",
      "|1874-03-07|        Scotland|      England|             2|             1|      Friendly|  Glasgow|           Scotland|      FALSE|\n",
      "|1875-03-06|         England|     Scotland|             2|             2|      Friendly|   London|            England|      FALSE|\n",
      "|1876-03-04|        Scotland|      England|             3|             0|      Friendly|  Glasgow|           Scotland|      FALSE|\n",
      "|1876-03-25|        Scotland|        Wales|             4|             0|      Friendly|  Glasgow|           Scotland|      FALSE|\n",
      "|1877-03-03|         England|     Scotland|             1|             3|      Friendly|   London|            England|      FALSE|\n",
      "|1877-03-05|           Wales|     Scotland|             0|             2|      Friendly|  Wrexham|              Wales|      FALSE|\n",
      "|1878-03-02|        Scotland|      England|             7|             2|      Friendly|  Glasgow|           Scotland|      FALSE|\n",
      "|1878-03-23|        Scotland|        Wales|             9|             0|      Friendly|  Glasgow|           Scotland|      FALSE|\n",
      "|1879-01-18|         England|        Wales|             2|             1|      Friendly|   London|            England|      FALSE|\n",
      "|1879-04-05|         England|     Scotland|             5|             4|      Friendly|   London|            England|      FALSE|\n",
      "|1879-04-07|           Wales|     Scotland|             0|             3|      Friendly|  Wrexham|              Wales|      FALSE|\n",
      "|1880-03-13|        Scotland|      England|             5|             4|      Friendly|  Glasgow|           Scotland|      FALSE|\n",
      "|1880-03-15|           Wales|      England|             2|             3|      Friendly|  Wrexham|              Wales|      FALSE|\n",
      "|1880-03-27|        Scotland|        Wales|             5|             1|      Friendly|  Glasgow|           Scotland|      FALSE|\n",
      "|1881-02-26|         England|        Wales|             0|             1|      Friendly|Blackburn|            England|      FALSE|\n",
      "|1881-03-12|         England|     Scotland|             1|             6|      Friendly|   London|            England|      FALSE|\n",
      "|1881-03-14|           Wales|     Scotland|             1|             5|      Friendly|  Wrexham|              Wales|      FALSE|\n",
      "|1882-02-18|Northern Ireland|      England|             0|            13|      Friendly|  Belfast|Republic of Ireland|      FALSE|\n",
      "+----------+----------------+-------------+--------------+--------------+--------------+---------+-------------------+-----------+\n",
      "only showing top 20 rows\n",
      "\n"
     ]
    }
   ],
   "source": [
    "df.show()"
   ]
  },
  {
   "cell_type": "code",
   "execution_count": 11,
   "id": "4a91f3d5-e894-4413-b103-e48cb959eb06",
   "metadata": {},
   "outputs": [],
   "source": [
    "from pyspark.sql.functions import col\n",
    "\n",
    "partidas = (\n",
    "    df\n",
    "    .drop('neutralTrue')\n",
    "    .withColumnRenamed('date','DATA')\n",
    "    .withColumnRenamed('home_teamName','MANDANTE')\n",
    "    .withColumnRenamed('away_teamName','VISITANTE')\n",
    "    .withColumnRenamed('home_scoreHome','GOL_MANDANTE').withColumn('GOL_MANDANTE',col('GOL_MANDANTE').cast('int'))\n",
    "    .withColumnRenamed('away_scoreAway','GOL_VISITANTE').withColumn('GOL_VISITANTE',col('GOL_VISITANTE').cast('int'))\n",
    "    .withColumnRenamed('tournamentName','TORNEIO')\n",
    "    .withColumnRenamed('cityCity','CIDADE')\n",
    "    .withColumnRenamed('countryCountry','PAIS')\n",
    ")"
   ]
  },
  {
   "cell_type": "code",
   "execution_count": 25,
   "id": "51ca2e09-a8ab-4262-a3cf-fd03a0d3f47f",
   "metadata": {},
   "outputs": [],
   "source": [
    "partidas = partidas.drop_duplicates()"
   ]
  },
  {
   "cell_type": "code",
   "execution_count": 29,
   "id": "db4f2b2d-b58c-4644-a656-de3c1af24b79",
   "metadata": {},
   "outputs": [
    {
     "name": "stdout",
     "output_type": "stream",
     "text": [
      "Delta nao existe\n"
     ]
    }
   ],
   "source": [
    "if not DeltaTable.isDeltaTable(spark,trusted):\n",
    "    print('Delta nao existe')\n",
    "    partidas.write.format('delta').mode('overwrite').save(trusted)\n",
    "else:\n",
    "    print('Delta existe')\n",
    "    delta_table = DeltaTable.forPath(spark,trusted)\n",
    "    delta_table.alias('trusted') \\\n",
    "        .merge(\n",
    "            partidas.alias('raw'),\n",
    "            \"raw.DATA = trusted.DATA and raw.VISITANTE = trusted.VISITANTE and raw.MANDANTE = trusted.MANDANTE and raw.GOL_MANDANTE = trusted.GOL_VISITANTE \"\n",
    "    ) \\\n",
    "    .whenMatchedUpdateAll() \\\n",
    "    .whenNotMatchedInsertAll() \\\n",
    "    .execute()\n",
    "        "
   ]
  },
  {
   "cell_type": "code",
   "execution_count": null,
   "id": "9947a771-e17f-4908-8973-bf1e91af05c4",
   "metadata": {},
   "outputs": [],
   "source": []
  }
 ],
 "metadata": {
  "kernelspec": {
   "display_name": "Python 3 (ipykernel)",
   "language": "python",
   "name": "python3"
  },
  "language_info": {
   "codemirror_mode": {
    "name": "ipython",
    "version": 3
   },
   "file_extension": ".py",
   "mimetype": "text/x-python",
   "name": "python",
   "nbconvert_exporter": "python",
   "pygments_lexer": "ipython3",
   "version": "3.10.8"
  }
 },
 "nbformat": 4,
 "nbformat_minor": 5
}
