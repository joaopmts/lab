{
 "cells": [
  {
   "cell_type": "code",
   "execution_count": 1,
   "id": "d7fad5d5-de26-44ae-81d8-ecaea235c4ba",
   "metadata": {
    "tags": []
   },
   "outputs": [],
   "source": [
    "from pyspark.sql import SparkSession\n",
    "import inspect"
   ]
  },
  {
   "cell_type": "code",
   "execution_count": 2,
   "id": "ba65fcd4-2bb1-4978-91c4-6c5c7274231a",
   "metadata": {},
   "outputs": [
    {
     "name": "stderr",
     "output_type": "stream",
     "text": [
      "Setting default log level to \"WARN\".\n",
      "To adjust logging level use sc.setLogLevel(newLevel). For SparkR, use setLogLevel(newLevel).\n",
      "25/08/22 02:23:57 WARN NativeCodeLoader: Unable to load native-hadoop library for your platform... using builtin-java classes where applicable\n"
     ]
    }
   ],
   "source": [
    "spark = SparkSession.builder.appName('Aula de Spark').master(\"spark://spark-master:7077\").enableHiveSupport().getOrCreate()"
   ]
  },
  {
   "cell_type": "code",
   "execution_count": 3,
   "id": "8f2b2ed2-e9fe-44d5-ac4c-12bfea32aaa9",
   "metadata": {},
   "outputs": [
    {
     "data": {
      "text/html": [
       "\n",
       "            <div>\n",
       "                <p><b>SparkSession - hive</b></p>\n",
       "                \n",
       "        <div>\n",
       "            <p><b>SparkContext</b></p>\n",
       "\n",
       "            <p><a href=\"http://spark-master:4040\">Spark UI</a></p>\n",
       "\n",
       "            <dl>\n",
       "              <dt>Version</dt>\n",
       "                <dd><code>v3.5.4</code></dd>\n",
       "              <dt>Master</dt>\n",
       "                <dd><code>spark://spark-master:7077</code></dd>\n",
       "              <dt>AppName</dt>\n",
       "                <dd><code>Aula de Spark</code></dd>\n",
       "            </dl>\n",
       "        </div>\n",
       "        \n",
       "            </div>\n",
       "        "
      ],
      "text/plain": [
       "<pyspark.sql.session.SparkSession at 0x7288763c5eb0>"
      ]
     },
     "execution_count": 3,
     "metadata": {},
     "output_type": "execute_result"
    }
   ],
   "source": [
    "spark"
   ]
  },
  {
   "cell_type": "markdown",
   "id": "e8693102-c05b-4ac2-ba96-7c3885a6ee83",
   "metadata": {},
   "source": [
    "# ACESSO HADOOP"
   ]
  },
  {
   "cell_type": "code",
   "execution_count": 4,
   "id": "81642a8e-da03-4b65-b0c8-ec0890f7cfa6",
   "metadata": {},
   "outputs": [
    {
     "name": "stderr",
     "output_type": "stream",
     "text": [
      "                                                                                "
     ]
    }
   ],
   "source": [
    "df_hdfs = spark.read.csv(\n",
    "    path='hdfs://namenode:8020/bronze/reddit',\n",
    "    header=True\n",
    ")"
   ]
  },
  {
   "cell_type": "code",
   "execution_count": 5,
   "id": "536e2248-9042-4764-876e-865a6aaf4dde",
   "metadata": {},
   "outputs": [
    {
     "name": "stdout",
     "output_type": "stream",
     "text": [
      "+-------+--------------------+-----+------------+--------------------+--------------------+--------------------+------------+------------+\n",
      "|     id|               title|score|   subreddit|              author|                 url|           permalink| created_utc|num_comments|\n",
      "+-------+--------------------+-----+------------+--------------------+--------------------+--------------------+------------+------------+\n",
      "|1mqcpec|BF vets after pla...|    2| Battlefield|             Tintn00|https://i.redd.it...|/r/Battlefield/co...|1755204356.0|           0|\n",
      "|1mqcog8| Search and Destroy?|    0| Battlefield|  Electronic-Tap3979|https://www.reddi...|/r/Battlefield/co...|1755204301.0|           0|\n",
      "|1mqcnnx|As somebody who h...|    2| Battlefield|               Jon2D|https://www.reddi...|/r/Battlefield/co...|1755204252.0|           0|\n",
      "|1mqcnis|        bf6 beta ps5|    0| Battlefield|Commercial_Cold_6970|https://www.reddi...|/r/Battlefield/co...|1755204242.0|           0|\n",
      "|1mqcmn3|Another large map...|    3| Battlefield|              AIR_TI|https://i.redd.it...|/r/Battlefield/co...|1755204187.0|           0|\n",
      "|1mqcl4s|  Battlefield 6 beta|    1| Battlefield|       camo_official|https://www.reddi...|/r/Battlefield/co...|1755204092.0|           5|\n",
      "|1mqcl0t|Is BF6 servers br...|    4| Battlefield|Impossible-Deal-3030|https://www.reddi...|/r/Battlefield/co...|1755204086.0|           4|\n",
      "|1mqcj5n|Question: is ther...|    2|Battlefield6|          FrenchBVSH|https://i.redd.it...|/r/Battlefield6/c...|1755203968.0|           0|\n",
      "|1mqciqx|My opinion on BF6...|    8| Battlefield|           Metal0ver|https://www.reddi...|/r/Battlefield/co...|1755203942.0|           5|\n",
      "|1mqci15|After almost 5 ye...|    2|pcmasterrace|    Monstras-Patrick|https://www.reddi...|/r/pcmasterrace/c...|1755203898.0|           0|\n",
      "|1mqch5c|Breakthrough feed...|    1|Battlefield6|         AzulaThorne|https://www.reddi...|/r/Battlefield6/c...|1755203841.0|           0|\n",
      "|1mqcg1z|      Open or closed|    3| Battlefield|       boristh3blade|https://www.reddi...|/r/Battlefield/co...|1755203774.0|           5|\n",
      "|1mqccdq|\"\"\"it's a beta\"\" ...|    2|Battlefield6|        FinalLightNL|https://www.reddi...|/r/Battlefield6/c...|1755203561.0|           4|\n",
      "|1mqcbym|Will their player...|    2| Battlefield| Choice-Flounder5516|https://i.redd.it...|/r/Battlefield/co...|1755203534.0|           5|\n",
      "|1mqc773|Pro Mendos opinio...|    1|   Asmongold| Thatguyfromdeadpool|https://www.reddi...|/r/Asmongold/comm...|1755203246.0|           0|\n",
      "|1mqc1ro|BF6 Beta Twitch D...|    2|    Argaming|          TheTranc3r|https://i.redd.it...|/r/Argaming/comme...|1755202917.0|           1|\n",
      "|1mqc1qj|BF6 Beta Twitch D...|    3| ArgenGaming|          TheTranc3r|https://i.redd.it...|/r/ArgenGaming/co...|1755202915.0|           3|\n",
      "|1mqc1dr|       Hardcore mode|    4| Battlefield|            McHurtin|https://www.reddi...|/r/Battlefield/co...|1755202892.0|           4|\n",
      "|1mqbz8s|BF6: I need frien...|    2| Battlefield|              vogina|https://www.reddi...|/r/Battlefield/co...|1755202766.0|           1|\n",
      "|1mqbyoc|Are these temps t...|    2|      pchelp|BudgetCommercial2292|https://i.redd.it...|/r/pchelp/comment...|1755202735.0|           4|\n",
      "+-------+--------------------+-----+------------+--------------------+--------------------+--------------------+------------+------------+\n",
      "only showing top 20 rows\n",
      "\n"
     ]
    }
   ],
   "source": [
    "df_hdfs.show()"
   ]
  },
  {
   "cell_type": "markdown",
   "id": "6b882e28-7dfa-4d56-8321-19de076b8288",
   "metadata": {},
   "source": [
    "# ACESSO S3"
   ]
  },
  {
   "cell_type": "code",
   "execution_count": 6,
   "id": "c507d526-0a29-4145-8310-83eff00a1a04",
   "metadata": {},
   "outputs": [
    {
     "name": "stderr",
     "output_type": "stream",
     "text": [
      "25/08/22 02:24:04 WARN MetricsConfig: Cannot locate configuration: tried hadoop-metrics2-s3a-file-system.properties,hadoop-metrics2.properties\n"
     ]
    }
   ],
   "source": [
    "path_bronze_reddit = \"s3a://bronze/reddit\"\n",
    "\n",
    "df_bronze_reddit = spark.read.option(\"header\", \"true\").csv(path_bronze_reddit)"
   ]
  },
  {
   "cell_type": "code",
   "execution_count": 7,
   "id": "54ecf55a-4c7a-4ff7-be1c-d0ade9bf2b1c",
   "metadata": {},
   "outputs": [
    {
     "name": "stdout",
     "output_type": "stream",
     "text": [
      "+-------+--------------------+-----+------------+--------------------+--------------------+--------------------+------------+------------+\n",
      "|     id|               title|score|   subreddit|              author|                 url|           permalink| created_utc|num_comments|\n",
      "+-------+--------------------+-----+------------+--------------------+--------------------+--------------------+------------+------------+\n",
      "|1mqcpec|BF vets after pla...|    2| Battlefield|             Tintn00|https://i.redd.it...|/r/Battlefield/co...|1755204356.0|           0|\n",
      "|1mqcog8| Search and Destroy?|    0| Battlefield|  Electronic-Tap3979|https://www.reddi...|/r/Battlefield/co...|1755204301.0|           0|\n",
      "|1mqcnnx|As somebody who h...|    2| Battlefield|               Jon2D|https://www.reddi...|/r/Battlefield/co...|1755204252.0|           0|\n",
      "|1mqcnis|        bf6 beta ps5|    0| Battlefield|Commercial_Cold_6970|https://www.reddi...|/r/Battlefield/co...|1755204242.0|           0|\n",
      "|1mqcmn3|Another large map...|    3| Battlefield|              AIR_TI|https://i.redd.it...|/r/Battlefield/co...|1755204187.0|           0|\n",
      "|1mqcl4s|  Battlefield 6 beta|    1| Battlefield|       camo_official|https://www.reddi...|/r/Battlefield/co...|1755204092.0|           5|\n",
      "|1mqcl0t|Is BF6 servers br...|    4| Battlefield|Impossible-Deal-3030|https://www.reddi...|/r/Battlefield/co...|1755204086.0|           4|\n",
      "|1mqcj5n|Question: is ther...|    2|Battlefield6|          FrenchBVSH|https://i.redd.it...|/r/Battlefield6/c...|1755203968.0|           0|\n",
      "|1mqciqx|My opinion on BF6...|    8| Battlefield|           Metal0ver|https://www.reddi...|/r/Battlefield/co...|1755203942.0|           5|\n",
      "|1mqci15|After almost 5 ye...|    2|pcmasterrace|    Monstras-Patrick|https://www.reddi...|/r/pcmasterrace/c...|1755203898.0|           0|\n",
      "|1mqch5c|Breakthrough feed...|    1|Battlefield6|         AzulaThorne|https://www.reddi...|/r/Battlefield6/c...|1755203841.0|           0|\n",
      "|1mqcg1z|      Open or closed|    3| Battlefield|       boristh3blade|https://www.reddi...|/r/Battlefield/co...|1755203774.0|           5|\n",
      "|1mqccdq|\"\"\"it's a beta\"\" ...|    2|Battlefield6|        FinalLightNL|https://www.reddi...|/r/Battlefield6/c...|1755203561.0|           4|\n",
      "|1mqcbym|Will their player...|    2| Battlefield| Choice-Flounder5516|https://i.redd.it...|/r/Battlefield/co...|1755203534.0|           5|\n",
      "|1mqc773|Pro Mendos opinio...|    1|   Asmongold| Thatguyfromdeadpool|https://www.reddi...|/r/Asmongold/comm...|1755203246.0|           0|\n",
      "|1mqc1ro|BF6 Beta Twitch D...|    2|    Argaming|          TheTranc3r|https://i.redd.it...|/r/Argaming/comme...|1755202917.0|           1|\n",
      "|1mqc1qj|BF6 Beta Twitch D...|    3| ArgenGaming|          TheTranc3r|https://i.redd.it...|/r/ArgenGaming/co...|1755202915.0|           3|\n",
      "|1mqc1dr|       Hardcore mode|    4| Battlefield|            McHurtin|https://www.reddi...|/r/Battlefield/co...|1755202892.0|           4|\n",
      "|1mqbz8s|BF6: I need frien...|    2| Battlefield|              vogina|https://www.reddi...|/r/Battlefield/co...|1755202766.0|           1|\n",
      "|1mqbyoc|Are these temps t...|    2|      pchelp|BudgetCommercial2292|https://i.redd.it...|/r/pchelp/comment...|1755202735.0|           4|\n",
      "+-------+--------------------+-----+------------+--------------------+--------------------+--------------------+------------+------------+\n",
      "only showing top 20 rows\n",
      "\n"
     ]
    }
   ],
   "source": [
    "df_bronze_reddit.show()"
   ]
  },
  {
   "cell_type": "markdown",
   "id": "205a7e41-a9d2-476d-9a88-719890c50a8e",
   "metadata": {},
   "source": [
    "# ACESSO ODBC"
   ]
  },
  {
   "cell_type": "code",
   "execution_count": null,
   "id": "07e1d0b0-259d-41a5-87fb-25719f886173",
   "metadata": {},
   "outputs": [],
   "source": [
    "conn = 'jdbc:postgresql://postgres:5432/dvdrental'"
   ]
  },
  {
   "cell_type": "code",
   "execution_count": null,
   "id": "547b383b-ef7b-4d7c-84fd-7c7fdf7657c7",
   "metadata": {},
   "outputs": [],
   "source": [
    "prop = {\n",
    "    \"user\":\"admin\",\n",
    "    \"password\":\"admin\",\n",
    "    \"driver\":\"org.postgresql.Driver\"\n",
    "}"
   ]
  },
  {
   "cell_type": "code",
   "execution_count": null,
   "id": "ce5b2ca0-ea31-437d-bf02-a855a2e2995c",
   "metadata": {},
   "outputs": [],
   "source": [
    "prop"
   ]
  },
  {
   "cell_type": "code",
   "execution_count": null,
   "id": "849b3790-800b-4430-89ce-a928e2bafcf3",
   "metadata": {},
   "outputs": [],
   "source": [
    "df_city = spark.read.jdbc(url=conn,properties=prop,table='public.city')"
   ]
  },
  {
   "cell_type": "code",
   "execution_count": null,
   "id": "3ff39091-bfed-4d22-aa60-12b51fde9431",
   "metadata": {},
   "outputs": [],
   "source": [
    "df_city.show()"
   ]
  },
  {
   "cell_type": "code",
   "execution_count": null,
   "id": "939e94a9-019a-42ed-9223-e1150587229e",
   "metadata": {},
   "outputs": [],
   "source": [
    "df_city.count()"
   ]
  },
  {
   "cell_type": "markdown",
   "id": "dd8a82d0-43db-4866-9d7b-f5259f064a0d",
   "metadata": {},
   "source": [
    "# QUERY NO ODBC"
   ]
  },
  {
   "cell_type": "code",
   "execution_count": null,
   "id": "adbbf9dc-d5c0-4cca-a4aa-8a9ceff48d57",
   "metadata": {},
   "outputs": [],
   "source": [
    "query = '(select c.customer_id, c.first_name, c.email, c2.city \\\n",
    "from public.customer c \\\n",
    "inner join public.address a on c.address_id = a.address_id \\\n",
    "inner join public.city c2 on c2.city_id = a.city_id) as tab'"
   ]
  },
  {
   "cell_type": "code",
   "execution_count": null,
   "id": "04c4bd23-ae11-4d1c-bedb-1175b218b022",
   "metadata": {},
   "outputs": [],
   "source": [
    "df_query = spark.read.jdbc(url=conn,properties=prop, table=query)"
   ]
  },
  {
   "cell_type": "code",
   "execution_count": null,
   "id": "c601f6a1-8e1b-41d3-b37f-bfdc9335bf10",
   "metadata": {},
   "outputs": [],
   "source": [
    "df_query.show(truncate=False)"
   ]
  },
  {
   "cell_type": "code",
   "execution_count": null,
   "id": "cd56b220-94e5-4a01-a819-ee5a45a147b4",
   "metadata": {},
   "outputs": [],
   "source": [
    "df_query.count()"
   ]
  },
  {
   "cell_type": "code",
   "execution_count": null,
   "id": "95e050fa-6cdd-4fd6-a1b5-3d36ae8396b5",
   "metadata": {},
   "outputs": [],
   "source": [
    "df_query.show(2)"
   ]
  },
  {
   "cell_type": "markdown",
   "id": "ef76a06e-4b9d-4a26-b2f1-34861d76b5ee",
   "metadata": {},
   "source": [
    "# GRAVANDO NO DATALAKE"
   ]
  },
  {
   "cell_type": "code",
   "execution_count": null,
   "id": "c2520a38-050e-4dc0-8289-77b32a302704",
   "metadata": {},
   "outputs": [],
   "source": [
    "df_query.write.csv('hdfs:///datalake/bronze/aula4', header = True, sep=';', mode='append')"
   ]
  },
  {
   "cell_type": "code",
   "execution_count": null,
   "id": "95faa009-4c06-4528-8ad6-ca21d0e961eb",
   "metadata": {},
   "outputs": [],
   "source": [
    "df_query2 = df_query.repartition(3)"
   ]
  },
  {
   "cell_type": "code",
   "execution_count": null,
   "id": "00ff9144-00e2-4521-a162-1802f14acbcc",
   "metadata": {},
   "outputs": [],
   "source": [
    "df_query2.write.csv('hdfs:///datalake/bronze/aula4/gravacao', header = True, sep=';', mode='overwrite')"
   ]
  },
  {
   "cell_type": "code",
   "execution_count": null,
   "id": "dd43838e-4350-4f33-9d9e-a982da61d2e9",
   "metadata": {},
   "outputs": [],
   "source": [
    "df_query2.write.json('s3a://camada-bronze/aula4/gravacao', mode='append')"
   ]
  },
  {
   "cell_type": "code",
   "execution_count": null,
   "id": "6d4df0fa-b1b4-449a-a593-65f7e32b65c4",
   "metadata": {},
   "outputs": [],
   "source": [
    "df_query2.write.parquet('s3a://camada-bronze/aula4/gravacao', mode='append')"
   ]
  },
  {
   "cell_type": "markdown",
   "id": "b28559f5-0de3-4b59-a6b6-8f0a3252e13c",
   "metadata": {},
   "source": [
    "# GRAVANDO NO HIVE"
   ]
  },
  {
   "cell_type": "code",
   "execution_count": null,
   "id": "412341a5-ab5f-480c-aac7-6898d0ee6119",
   "metadata": {},
   "outputs": [],
   "source": [
    "df_query.write.format('hive').saveAsTable('default.query')"
   ]
  },
  {
   "cell_type": "code",
   "execution_count": null,
   "id": "9829bfcc-89d9-4e3f-ae92-8ab1051944b3",
   "metadata": {},
   "outputs": [],
   "source": [
    "df_query.write.format('hive').insertInto('default.query')"
   ]
  },
  {
   "cell_type": "code",
   "execution_count": null,
   "id": "0a1c71c5-1018-42d8-b85c-d3b0d66189f5",
   "metadata": {},
   "outputs": [],
   "source": [
    "df_query.write.mode('overwrite').format('hive').insertInto('default.query')"
   ]
  },
  {
   "cell_type": "code",
   "execution_count": null,
   "id": "d8f6e6de-3e2b-4a8f-9770-8eb9a1080d4d",
   "metadata": {},
   "outputs": [],
   "source": [
    "# OBS AO GRAVAR NO HIVE VC NAO ESCOLHE ONDE A TABELA É SALVA, \n",
    "# RECOMENDA-SE CRIAR UMA TABELA COM A FONTE ANTES\n",
    "# SPARK SO PARA POPULAR E NAO CRIAR"
   ]
  },
  {
   "cell_type": "code",
   "execution_count": null,
   "id": "48f4d21a-93ff-49cd-9dd6-87fc18517c14",
   "metadata": {},
   "outputs": [],
   "source": []
  },
  {
   "cell_type": "code",
   "execution_count": null,
   "id": "e804b06e-fda4-4d66-9401-5b46921ca641",
   "metadata": {},
   "outputs": [],
   "source": [
    "# LENDO HIVE"
   ]
  },
  {
   "cell_type": "code",
   "execution_count": null,
   "id": "85595865-2b36-473c-9e03-74b97497649d",
   "metadata": {},
   "outputs": [],
   "source": [
    "df_hive = spark.read.table('aula.tabelaexterna')"
   ]
  },
  {
   "cell_type": "code",
   "execution_count": null,
   "id": "d583b6d3-d351-4d40-85f1-1a8964cd04e5",
   "metadata": {},
   "outputs": [],
   "source": [
    "df_hive.show()"
   ]
  },
  {
   "cell_type": "code",
   "execution_count": null,
   "id": "30d83251-8c94-4a4f-9c02-3f9720899c6d",
   "metadata": {},
   "outputs": [],
   "source": [
    "df_hive.count()"
   ]
  },
  {
   "cell_type": "code",
   "execution_count": null,
   "id": "e7e3896c-07ea-477b-a770-2baca4f32721",
   "metadata": {},
   "outputs": [],
   "source": [
    "df_hive = spark.read.table('default.query')"
   ]
  },
  {
   "cell_type": "code",
   "execution_count": null,
   "id": "d8834bac-2cd2-4e1f-a44e-941c82554854",
   "metadata": {},
   "outputs": [],
   "source": [
    "# cruzando tabela hive com tabela s3"
   ]
  },
  {
   "cell_type": "code",
   "execution_count": null,
   "id": "e7b36c59-fddf-413e-9460-d36c635fd0d5",
   "metadata": {},
   "outputs": [],
   "source": [
    "df_hive.join(df_query, df_query.customer_id == df_hive.customer_id).show()"
   ]
  },
  {
   "cell_type": "code",
   "execution_count": null,
   "id": "3f9abe6a-4524-4058-b7d0-7a920d18fbcc",
   "metadata": {},
   "outputs": [],
   "source": [
    "df_total = spark.sql('select count(*) from parquet.`s3a://camada-bronze/aula4/gravacao`')"
   ]
  },
  {
   "cell_type": "code",
   "execution_count": null,
   "id": "cff1ac77-0ee4-4070-8ac9-bdc6416ba7eb",
   "metadata": {},
   "outputs": [],
   "source": [
    "df_total.show()"
   ]
  },
  {
   "cell_type": "code",
   "execution_count": null,
   "id": "d98be37a-cbc7-45f5-93c5-c18ad60a63b2",
   "metadata": {},
   "outputs": [],
   "source": [
    "df_total.write.jdbc(url=conn, properties=prop, table = 'public.aula4')"
   ]
  },
  {
   "cell_type": "markdown",
   "id": "e4c9611e-a963-46fd-a4c0-cab5171d8c9d",
   "metadata": {},
   "source": [
    "# APIs"
   ]
  },
  {
   "cell_type": "code",
   "execution_count": null,
   "id": "bbf84685-581c-42e8-a844-164816da4d16",
   "metadata": {},
   "outputs": [],
   "source": [
    "import requests"
   ]
  },
  {
   "cell_type": "code",
   "execution_count": null,
   "id": "ed72a797-2de1-4ffa-bd29-e518eb720745",
   "metadata": {},
   "outputs": [],
   "source": [
    "retorno = requests.get('https://catfact.ninja/fact')"
   ]
  },
  {
   "cell_type": "code",
   "execution_count": null,
   "id": "d3f6934f-3034-4a3d-9aba-073ad3687cd2",
   "metadata": {},
   "outputs": [],
   "source": [
    "retorno.status_code"
   ]
  },
  {
   "cell_type": "code",
   "execution_count": null,
   "id": "90feefcf-386e-4e08-b41f-e2e4e44eb2a9",
   "metadata": {},
   "outputs": [],
   "source": [
    "retorno.text"
   ]
  },
  {
   "cell_type": "code",
   "execution_count": null,
   "id": "4a4703a3-69d1-4fa7-93fb-236965c633e6",
   "metadata": {},
   "outputs": [],
   "source": [
    "l = []\n",
    "for x in range (10):\n",
    "    print(x)\n",
    "    retorno = requests.get('https://catfact.ninja/fact')\n",
    "    l.append(retorno.json())\n",
    "    "
   ]
  },
  {
   "cell_type": "code",
   "execution_count": null,
   "id": "5cba3fa0-f5d1-4254-93f5-fbf4e6b416bf",
   "metadata": {},
   "outputs": [],
   "source": [
    "l"
   ]
  },
  {
   "cell_type": "code",
   "execution_count": null,
   "id": "fa7babde-9bce-438e-95a4-06c361b8b84d",
   "metadata": {},
   "outputs": [],
   "source": [
    "req = spark.read.json(spark.sparkContext.parallelize(l))"
   ]
  },
  {
   "cell_type": "code",
   "execution_count": null,
   "id": "e1b97b2e-bb61-4d3d-a22b-9601b589b0f0",
   "metadata": {},
   "outputs": [],
   "source": [
    "req.show()"
   ]
  },
  {
   "cell_type": "code",
   "execution_count": null,
   "id": "487426a1-1796-4467-b29b-4fa865cf3b53",
   "metadata": {},
   "outputs": [],
   "source": []
  }
 ],
 "metadata": {
  "kernelspec": {
   "display_name": "Python 3 (ipykernel)",
   "language": "python",
   "name": "python3"
  },
  "language_info": {
   "codemirror_mode": {
    "name": "ipython",
    "version": 3
   },
   "file_extension": ".py",
   "mimetype": "text/x-python",
   "name": "python",
   "nbconvert_exporter": "python",
   "pygments_lexer": "ipython3",
   "version": "3.12.9"
  }
 },
 "nbformat": 4,
 "nbformat_minor": 5
}
