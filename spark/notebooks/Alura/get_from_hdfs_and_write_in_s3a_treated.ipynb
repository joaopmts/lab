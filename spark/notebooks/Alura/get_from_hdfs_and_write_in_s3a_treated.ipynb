{
 "cells": [
  {
   "cell_type": "code",
   "execution_count": null,
   "id": "b106836c-44ba-4577-bae6-95dcd86e5789",
   "metadata": {},
   "outputs": [],
   "source": [
    "from pyspark.sql import SparkSession"
   ]
  },
  {
   "cell_type": "code",
   "execution_count": null,
   "id": "1ac224d8-a462-445a-a6fb-8ee368c01b7f",
   "metadata": {},
   "outputs": [],
   "source": [
    "spark = SparkSession.builder.appName(\"Airflow Formation\").master(\"spark://spark-master:7077\").enableHiveSupport().getOrCreate()"
   ]
  },
  {
   "cell_type": "code",
   "execution_count": null,
   "id": "5186e3b8-b16b-488d-b0c1-acde596fb6d3",
   "metadata": {},
   "outputs": [],
   "source": [
    "spark"
   ]
  },
  {
   "cell_type": "code",
   "execution_count": null,
   "id": "1c8615d7-c510-429a-b227-fa2a39ae583c",
   "metadata": {},
   "outputs": [],
   "source": [
    "df = spark.read.json(path='s3a://bronze/reddit/day/json')"
   ]
  },
  {
   "cell_type": "code",
   "execution_count": null,
   "id": "b4ea5caf-74a8-4da6-8f7e-94c7c854ef98",
   "metadata": {},
   "outputs": [],
   "source": [
    "df = spark.read.csv(path='s3a://teste/reddit',header=True)"
   ]
  },
  {
   "cell_type": "code",
   "execution_count": null,
   "id": "096fa9b9-f70d-4c27-9f9e-820d6e248ace",
   "metadata": {},
   "outputs": [],
   "source": [
    "df.show(3)"
   ]
  },
  {
   "cell_type": "code",
   "execution_count": null,
   "id": "6a1cd921-d9c7-4aa4-bd04-0c787971809a",
   "metadata": {},
   "outputs": [],
   "source": [
    "df = spark.read.csv(path='hdfs://namenode:8020/teste/reddit',header=True)"
   ]
  },
  {
   "cell_type": "code",
   "execution_count": null,
   "id": "2e9a2ca1-458b-4a8c-acf6-4efb4605c1ac",
   "metadata": {},
   "outputs": [],
   "source": [
    "df.show(3)"
   ]
  },
  {
   "cell_type": "code",
   "execution_count": null,
   "id": "963d2d6c-6e91-4792-b4ae-9552d953c40f",
   "metadata": {},
   "outputs": [],
   "source": [
    "df.printSchema()"
   ]
  },
  {
   "cell_type": "code",
   "execution_count": null,
   "id": "9336e4df-4de1-4746-9732-5011fbf5363b",
   "metadata": {},
   "outputs": [],
   "source": [
    "df_not_null = df.filter(df[\"author\"].isNotNull()) #Filter chatbots\n",
    "df_not_null.show(5)"
   ]
  },
  {
   "cell_type": "code",
   "execution_count": null,
   "id": "f7e39ff8-8e09-4093-ac89-56d03de1e356",
   "metadata": {},
   "outputs": [],
   "source": [
    "users = df_not_null.select(\"id\",\"author\",\"created_utc\")\n",
    "users.show(5)"
   ]
  },
  {
   "cell_type": "code",
   "execution_count": null,
   "id": "69f29087-bc5d-4a16-8956-9d525f48605e",
   "metadata": {},
   "outputs": [],
   "source": [
    "users.write.mode(\"overwrite\").parquet(\"s3a://silver/reddit/jupyter_test/users_df\") #Writing on s3a server as parquet"
   ]
  },
  {
   "cell_type": "code",
   "execution_count": null,
   "id": "5103b113-c0c7-4b3f-bbad-ce5cb1bd44b0",
   "metadata": {},
   "outputs": [],
   "source": []
  },
  {
   "cell_type": "code",
   "execution_count": 1,
   "id": "61dea116-04e5-4561-9fbd-f8c06562b151",
   "metadata": {},
   "outputs": [
    {
     "ename": "NameError",
     "evalue": "name 'spark' is not defined",
     "output_type": "error",
     "traceback": [
      "\u001b[31m---------------------------------------------------------------------------\u001b[39m",
      "\u001b[31mNameError\u001b[39m                                 Traceback (most recent call last)",
      "\u001b[36mCell\u001b[39m\u001b[36m \u001b[39m\u001b[32mIn[1]\u001b[39m\u001b[32m, line 1\u001b[39m\n\u001b[32m----> \u001b[39m\u001b[32m1\u001b[39m \u001b[43mspark\u001b[49m.stop()\n",
      "\u001b[31mNameError\u001b[39m: name 'spark' is not defined"
     ]
    }
   ],
   "source": [
    "spark.stop()"
   ]
  },
  {
   "cell_type": "code",
   "execution_count": null,
   "id": "a07a7122-e540-4359-af7f-1928b2030070",
   "metadata": {},
   "outputs": [],
   "source": []
  }
 ],
 "metadata": {
  "kernelspec": {
   "display_name": "Python 3 (ipykernel)",
   "language": "python",
   "name": "python3"
  },
  "language_info": {
   "codemirror_mode": {
    "name": "ipython",
    "version": 3
   },
   "file_extension": ".py",
   "mimetype": "text/x-python",
   "name": "python",
   "nbconvert_exporter": "python",
   "pygments_lexer": "ipython3",
   "version": "3.12.9"
  }
 },
 "nbformat": 4,
 "nbformat_minor": 5
}
