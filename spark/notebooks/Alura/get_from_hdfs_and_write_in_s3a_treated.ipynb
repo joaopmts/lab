{
 "cells": [
  {
   "cell_type": "code",
   "execution_count": 1,
   "id": "b106836c-44ba-4577-bae6-95dcd86e5789",
   "metadata": {},
   "outputs": [],
   "source": [
    "from pyspark.sql import SparkSession"
   ]
  },
  {
   "cell_type": "code",
   "execution_count": 2,
   "id": "1ac224d8-a462-445a-a6fb-8ee368c01b7f",
   "metadata": {},
   "outputs": [
    {
     "name": "stderr",
     "output_type": "stream",
     "text": [
      "Setting default log level to \"WARN\".\n",
      "To adjust logging level use sc.setLogLevel(newLevel). For SparkR, use setLogLevel(newLevel).\n",
      "25/08/24 16:54:52 WARN NativeCodeLoader: Unable to load native-hadoop library for your platform... using builtin-java classes where applicable\n"
     ]
    }
   ],
   "source": [
    "spark = SparkSession.builder.appName(\"Airflow Formation\").master(\"spark://spark-master:7077\").enableHiveSupport().getOrCreate()"
   ]
  },
  {
   "cell_type": "code",
   "execution_count": 3,
   "id": "5186e3b8-b16b-488d-b0c1-acde596fb6d3",
   "metadata": {},
   "outputs": [
    {
     "data": {
      "text/html": [
       "\n",
       "            <div>\n",
       "                <p><b>SparkSession - hive</b></p>\n",
       "                \n",
       "        <div>\n",
       "            <p><b>SparkContext</b></p>\n",
       "\n",
       "            <p><a href=\"http://spark-master:4040\">Spark UI</a></p>\n",
       "\n",
       "            <dl>\n",
       "              <dt>Version</dt>\n",
       "                <dd><code>v3.5.4</code></dd>\n",
       "              <dt>Master</dt>\n",
       "                <dd><code>spark://spark-master:7077</code></dd>\n",
       "              <dt>AppName</dt>\n",
       "                <dd><code>Airflow Formation</code></dd>\n",
       "            </dl>\n",
       "        </div>\n",
       "        \n",
       "            </div>\n",
       "        "
      ],
      "text/plain": [
       "<pyspark.sql.session.SparkSession at 0x730bfc3f4440>"
      ]
     },
     "execution_count": 3,
     "metadata": {},
     "output_type": "execute_result"
    }
   ],
   "source": [
    "spark"
   ]
  },
  {
   "cell_type": "code",
   "execution_count": 4,
   "id": "99ea6abc-8094-41ec-a677-9cd38acbcd0d",
   "metadata": {},
   "outputs": [
    {
     "name": "stderr",
     "output_type": "stream",
     "text": [
      "25/08/24 16:54:53 WARN MetricsConfig: Cannot locate configuration: tried hadoop-metrics2-s3a-file-system.properties,hadoop-metrics2.properties\n",
      "                                                                                "
     ]
    },
    {
     "name": "stdout",
     "output_type": "stream",
     "text": [
      "+-------------------+-------------+-------+---------------+------------+-------+--------------------+-----+--------------------+-------+--------+------------+-------------------+--------------------+------------+--------------------+\n",
      "|             author|  created_utc|     id|link_flair_text|num_comments|over_18|           permalink|score|            selftext|spoiler|stickied|   subreddit|          timestamp|               title|upvote_ratio|                 url|\n",
      "+-------------------+-------------+-------+---------------+------------+-------+--------------------+-----+--------------------+-------+--------+------------+-------------------+--------------------+------------+--------------------+\n",
      "|Positive_Doubt_9084|1.756032066E9|1mysb1i|  Battlefield 6|           0|  false|/r/Battlefield/co...|    1|I personally like...|  false|   false| Battlefield|2025-08-24 10:46:10|option to set kil...|         1.0|https://i.redd.it...|\n",
      "|               n1sx|1.756031968E9|1mysa16|  Battlefield 6|           0|  false|/r/Battlefield/co...|    0|After playing som...|  false|   false| Battlefield|2025-08-24 10:46:10|Auto healing in BF6.|        0.33|https://www.reddi...|\n",
      "|               n1sx|1.756031376E9|1mys434|     Discussion|           3|  false|/r/Battlefield6/c...|    3|                    |  false|   false|Battlefield6|2025-08-24 10:46:10|With the amount o...|         0.8|/r/Battlefield/co...|\n",
      "+-------------------+-------------+-------+---------------+------------+-------+--------------------+-----+--------------------+-------+--------+------------+-------------------+--------------------+------------+--------------------+\n",
      "only showing top 3 rows\n",
      "\n"
     ]
    }
   ],
   "source": [
    "df = spark.read.option(\"recursiveFileLookup\", \"true\").json(path='s3a://bronze/reddit/day/json')\n",
    "df.show(3)"
   ]
  },
  {
   "cell_type": "code",
   "execution_count": 5,
   "id": "b4ea5caf-74a8-4da6-8f7e-94c7c854ef98",
   "metadata": {},
   "outputs": [
    {
     "name": "stdout",
     "output_type": "stream",
     "text": [
      "+------------------+-------------+-------+\n",
      "|            author|  created_utc|     id|\n",
      "+------------------+-------------+-------+\n",
      "|Existing-Prize7585|1.756024858E9|1myqd3p|\n",
      "|            scrgls|1.756024816E9|1myqcp0|\n",
      "|           sixburn|1.756024397E9|1myq8te|\n",
      "+------------------+-------------+-------+\n",
      "only showing top 3 rows\n",
      "\n"
     ]
    }
   ],
   "source": [
    "df = spark.read.option(\"recursiveFileLookup\", \"true\").json(path='s3a://silver/reddit/json/users')\n",
    "df.show(3)"
   ]
  },
  {
   "cell_type": "code",
   "execution_count": 6,
   "id": "096fa9b9-f70d-4c27-9f9e-820d6e248ace",
   "metadata": {},
   "outputs": [
    {
     "name": "stdout",
     "output_type": "stream",
     "text": [
      "+--------------------+--------------------+-----+--------------------+--------------------+------------------+------+-------+--------------+--------------------+-------+--------------------+--------+--------------------+-----------+------------+------------+------------+---------------+\n",
      "|                  id|                 url|media|               score|               title|            author|edited|is_self|       over_18|             preview|spoiler|            selftext|stickied|           permalink|  subreddit| created_utc|num_comments|upvote_ratio|link_flair_text|\n",
      "+--------------------+--------------------+-----+--------------------+--------------------+------------------+------+-------+--------------+--------------------+-------+--------------------+--------+--------------------+-----------+------------+------------+------------+---------------+\n",
      "|             1my9da0|https://www.reddi...| NULL|                   1|Performance On Lo...|     NoN-Stop-Dank| False|   True|         False|                NULL|  False|\"I saw on a Moxsy...|    NULL|                NULL|       NULL|        NULL|        NULL|        NULL|           NULL|\n",
      "|I have a 2070 Sup...| but DICE probabl...|False|/r/Borderlands4/c...|        Borderlands4|      1755974370.0|     1|    1.0|❔ [ Question ]|                NULL|   NULL|                NULL|    NULL|                NULL|       NULL|        NULL|        NULL|        NULL|           NULL|\n",
      "|             1my99bb|https://i.redd.it...| NULL|                   1|Just warming up f...|SoggyBlueberry9440| False|  False|         False|{'images': [{'id'...|  False|37-8, decent scor...|   False|/r/Battlefield/co...|Battlefield|1755974112.0|           1|        0.99|  Battlefield 6|\n",
      "+--------------------+--------------------+-----+--------------------+--------------------+------------------+------+-------+--------------+--------------------+-------+--------------------+--------+--------------------+-----------+------------+------------+------------+---------------+\n",
      "only showing top 3 rows\n",
      "\n"
     ]
    }
   ],
   "source": [
    "df = spark.read.csv(path='s3a://teste/reddit',header=True)\n",
    "df.show(3)"
   ]
  },
  {
   "cell_type": "code",
   "execution_count": 7,
   "id": "bfd7f0bb-801d-4f08-99ee-f311a7260e74",
   "metadata": {},
   "outputs": [
    {
     "name": "stdout",
     "output_type": "stream",
     "text": [
      "+--------------------+--------------------+-----+--------------------+--------------------+------------------+------+-------+--------------+--------------------+-------+--------------------+--------+--------------------+-----------+------------+------------+------------+---------------+\n",
      "|                  id|                 url|media|               score|               title|            author|edited|is_self|       over_18|             preview|spoiler|            selftext|stickied|           permalink|  subreddit| created_utc|num_comments|upvote_ratio|link_flair_text|\n",
      "+--------------------+--------------------+-----+--------------------+--------------------+------------------+------+-------+--------------+--------------------+-------+--------------------+--------+--------------------+-----------+------------+------------+------------+---------------+\n",
      "|             1my9da0|https://www.reddi...| NULL|                   1|Performance On Lo...|     NoN-Stop-Dank| False|   True|         False|                NULL|  False|\"I saw on a Moxsy...|    NULL|                NULL|       NULL|        NULL|        NULL|        NULL|           NULL|\n",
      "|I have a 2070 Sup...| but DICE probabl...|False|/r/Borderlands4/c...|        Borderlands4|      1755974370.0|     1|    1.0|❔ [ Question ]|                NULL|   NULL|                NULL|    NULL|                NULL|       NULL|        NULL|        NULL|        NULL|           NULL|\n",
      "|             1my99bb|https://i.redd.it...| NULL|                   1|Just warming up f...|SoggyBlueberry9440| False|  False|         False|{'images': [{'id'...|  False|37-8, decent scor...|   False|/r/Battlefield/co...|Battlefield|1755974112.0|           1|        0.99|  Battlefield 6|\n",
      "+--------------------+--------------------+-----+--------------------+--------------------+------------------+------+-------+--------------+--------------------+-------+--------------------+--------+--------------------+-----------+------------+------------+------------+---------------+\n",
      "only showing top 3 rows\n",
      "\n"
     ]
    }
   ],
   "source": [
    "df = spark.read.csv(path='hdfs://namenode:8020/teste/reddit',header=True)\n",
    "df.show(3)"
   ]
  },
  {
   "cell_type": "code",
   "execution_count": 8,
   "id": "6a1cd921-d9c7-4aa4-bd04-0c787971809a",
   "metadata": {},
   "outputs": [
    {
     "name": "stdout",
     "output_type": "stream",
     "text": [
      "+--------------------+--------------------+-----+--------------------+--------------------+------------------+------+-------+--------------+--------------------+-------+--------------------+--------+--------------------+-----------+------------+------------+------------+---------------+\n",
      "|                  id|                 url|media|               score|               title|            author|edited|is_self|       over_18|             preview|spoiler|            selftext|stickied|           permalink|  subreddit| created_utc|num_comments|upvote_ratio|link_flair_text|\n",
      "+--------------------+--------------------+-----+--------------------+--------------------+------------------+------+-------+--------------+--------------------+-------+--------------------+--------+--------------------+-----------+------------+------------+------------+---------------+\n",
      "|             1my9da0|https://www.reddi...| NULL|                   1|Performance On Lo...|     NoN-Stop-Dank| False|   True|         False|                NULL|  False|\"I saw on a Moxsy...|    NULL|                NULL|       NULL|        NULL|        NULL|        NULL|           NULL|\n",
      "|I have a 2070 Sup...| but DICE probabl...|False|/r/Borderlands4/c...|        Borderlands4|      1755974370.0|     1|    1.0|❔ [ Question ]|                NULL|   NULL|                NULL|    NULL|                NULL|       NULL|        NULL|        NULL|        NULL|           NULL|\n",
      "|             1my99bb|https://i.redd.it...| NULL|                   1|Just warming up f...|SoggyBlueberry9440| False|  False|         False|{'images': [{'id'...|  False|37-8, decent scor...|   False|/r/Battlefield/co...|Battlefield|1755974112.0|           1|        0.99|  Battlefield 6|\n",
      "+--------------------+--------------------+-----+--------------------+--------------------+------------------+------+-------+--------------+--------------------+-------+--------------------+--------+--------------------+-----------+------------+------------+------------+---------------+\n",
      "only showing top 3 rows\n",
      "\n"
     ]
    }
   ],
   "source": [
    "df = spark.read.csv(path='hdfs://namenode:8020/teste/reddit',header=True)\n",
    "df.show(3)"
   ]
  }
 ],
 "metadata": {
  "kernelspec": {
   "display_name": "Python 3 (ipykernel)",
   "language": "python",
   "name": "python3"
  },
  "language_info": {
   "codemirror_mode": {
    "name": "ipython",
    "version": 3
   },
   "file_extension": ".py",
   "mimetype": "text/x-python",
   "name": "python",
   "nbconvert_exporter": "python",
   "pygments_lexer": "ipython3",
   "version": "3.12.9"
  }
 },
 "nbformat": 4,
 "nbformat_minor": 5
}
