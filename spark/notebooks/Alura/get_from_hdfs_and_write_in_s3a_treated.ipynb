{
 "cells": [
  {
   "cell_type": "code",
   "execution_count": 1,
   "id": "b106836c-44ba-4577-bae6-95dcd86e5789",
   "metadata": {},
   "outputs": [],
   "source": [
    "from pyspark.sql import SparkSession"
   ]
  },
  {
   "cell_type": "code",
   "execution_count": 2,
   "id": "1ac224d8-a462-445a-a6fb-8ee368c01b7f",
   "metadata": {},
   "outputs": [
    {
     "name": "stderr",
     "output_type": "stream",
     "text": [
      "Setting default log level to \"WARN\".\n",
      "To adjust logging level use sc.setLogLevel(newLevel). For SparkR, use setLogLevel(newLevel).\n",
      "25/08/22 13:46:26 WARN NativeCodeLoader: Unable to load native-hadoop library for your platform... using builtin-java classes where applicable\n"
     ]
    }
   ],
   "source": [
    "spark = SparkSession.builder.appName(\"Airflow Formation\").master(\"spark://spark-master:7077\").enableHiveSupport().getOrCreate()"
   ]
  },
  {
   "cell_type": "code",
   "execution_count": 3,
   "id": "5186e3b8-b16b-488d-b0c1-acde596fb6d3",
   "metadata": {},
   "outputs": [
    {
     "data": {
      "text/html": [
       "\n",
       "            <div>\n",
       "                <p><b>SparkSession - hive</b></p>\n",
       "                \n",
       "        <div>\n",
       "            <p><b>SparkContext</b></p>\n",
       "\n",
       "            <p><a href=\"http://spark-master:4040\">Spark UI</a></p>\n",
       "\n",
       "            <dl>\n",
       "              <dt>Version</dt>\n",
       "                <dd><code>v3.5.4</code></dd>\n",
       "              <dt>Master</dt>\n",
       "                <dd><code>spark://spark-master:7077</code></dd>\n",
       "              <dt>AppName</dt>\n",
       "                <dd><code>Airflow Formation</code></dd>\n",
       "            </dl>\n",
       "        </div>\n",
       "        \n",
       "            </div>\n",
       "        "
      ],
      "text/plain": [
       "<pyspark.sql.session.SparkSession at 0x7b145c12bf50>"
      ]
     },
     "execution_count": 3,
     "metadata": {},
     "output_type": "execute_result"
    }
   ],
   "source": [
    "spark"
   ]
  },
  {
   "cell_type": "code",
   "execution_count": 9,
   "id": "b4ea5caf-74a8-4da6-8f7e-94c7c854ef98",
   "metadata": {},
   "outputs": [
    {
     "name": "stderr",
     "output_type": "stream",
     "text": [
      "25/08/22 13:47:08 WARN MetricsConfig: Cannot locate configuration: tried hadoop-metrics2-s3a-file-system.properties,hadoop-metrics2.properties\n"
     ]
    }
   ],
   "source": [
    "df = spark.read.csv(path='s3a://bronze/reddit',header=True)"
   ]
  },
  {
   "cell_type": "code",
   "execution_count": 10,
   "id": "096fa9b9-f70d-4c27-9f9e-820d6e248ace",
   "metadata": {},
   "outputs": [
    {
     "name": "stdout",
     "output_type": "stream",
     "text": [
      "+-------+--------------------+-----+-----+--------------------+---------------+------+-------+-------+-------+-------+--------------------+--------+--------------------+-----------+------------+------------+------------+---------------+\n",
      "|     id|                 url|media|score|               title|         author|edited|is_self|over_18|preview|spoiler|            selftext|stickied|           permalink|  subreddit| created_utc|num_comments|upvote_ratio|link_flair_text|\n",
      "+-------+--------------------+-----+-----+--------------------+---------------+------+-------+-------+-------+-------+--------------------+--------+--------------------+-----------+------------+------------+------------+---------------+\n",
      "|1mwn2vy|https://www.reddi...| NULL|    2|Processor struggling|Gslicethepowner| False|   True|  False|   NULL|  False|Hello, I have a P...|   False|/r/pchelp/comment...|     pchelp|1755809975.0|           3|         1.0|       HARDWARE|\n",
      "|1mwn15x|https://www.reddi...| NULL|    1|Difference betwee...|       fpsFoley| False|   True|  False|   NULL|  False|Is there any diff...|   False|/r/Battlefield/co...|Battlefield|1755809861.0|           2|         1.0|  Battlefield 6|\n",
      "|1mwmx0u|https://www.reddi...| NULL|    5|Is the BF6 moveme...|     Minizman12| False|   True|  False|   NULL|  False|Just read the bet...|    NULL|                NULL|       NULL|        NULL|        NULL|        NULL|           NULL|\n",
      "+-------+--------------------+-----+-----+--------------------+---------------+------+-------+-------+-------+-------+--------------------+--------+--------------------+-----------+------------+------------+------------+---------------+\n",
      "only showing top 3 rows\n",
      "\n"
     ]
    }
   ],
   "source": [
    "df.show(3)"
   ]
  },
  {
   "cell_type": "code",
   "execution_count": 4,
   "id": "6a1cd921-d9c7-4aa4-bd04-0c787971809a",
   "metadata": {},
   "outputs": [
    {
     "name": "stderr",
     "output_type": "stream",
     "text": [
      "                                                                                "
     ]
    }
   ],
   "source": [
    "df = spark.read.csv(path='hdfs://namenode:8020/bronze/reddit',header=True)"
   ]
  },
  {
   "cell_type": "code",
   "execution_count": 5,
   "id": "2e9a2ca1-458b-4a8c-acf6-4efb4605c1ac",
   "metadata": {},
   "outputs": [
    {
     "name": "stdout",
     "output_type": "stream",
     "text": [
      "+-------+--------------------+-----+-----+--------------------+---------------+------+-------+-------+-------+-------+--------------------+--------+--------------------+-----------+------------+------------+------------+---------------+\n",
      "|     id|                 url|media|score|               title|         author|edited|is_self|over_18|preview|spoiler|            selftext|stickied|           permalink|  subreddit| created_utc|num_comments|upvote_ratio|link_flair_text|\n",
      "+-------+--------------------+-----+-----+--------------------+---------------+------+-------+-------+-------+-------+--------------------+--------+--------------------+-----------+------------+------------+------------+---------------+\n",
      "|1mwn2vy|https://www.reddi...| NULL|    2|Processor struggling|Gslicethepowner| False|   True|  False|   NULL|  False|Hello, I have a P...|   False|/r/pchelp/comment...|     pchelp|1755809975.0|           3|         1.0|       HARDWARE|\n",
      "|1mwn15x|https://www.reddi...| NULL|    1|Difference betwee...|       fpsFoley| False|   True|  False|   NULL|  False|Is there any diff...|   False|/r/Battlefield/co...|Battlefield|1755809861.0|           2|         1.0|  Battlefield 6|\n",
      "|1mwmx0u|https://www.reddi...| NULL|    5|Is the BF6 moveme...|     Minizman12| False|   True|  False|   NULL|  False|Just read the bet...|    NULL|                NULL|       NULL|        NULL|        NULL|        NULL|           NULL|\n",
      "+-------+--------------------+-----+-----+--------------------+---------------+------+-------+-------+-------+-------+--------------------+--------+--------------------+-----------+------------+------------+------------+---------------+\n",
      "only showing top 3 rows\n",
      "\n"
     ]
    }
   ],
   "source": [
    "df.show(3)"
   ]
  },
  {
   "cell_type": "code",
   "execution_count": 6,
   "id": "963d2d6c-6e91-4792-b4ae-9552d953c40f",
   "metadata": {},
   "outputs": [
    {
     "name": "stdout",
     "output_type": "stream",
     "text": [
      "root\n",
      " |-- id: string (nullable = true)\n",
      " |-- url: string (nullable = true)\n",
      " |-- media: string (nullable = true)\n",
      " |-- score: string (nullable = true)\n",
      " |-- title: string (nullable = true)\n",
      " |-- author: string (nullable = true)\n",
      " |-- edited: string (nullable = true)\n",
      " |-- is_self: string (nullable = true)\n",
      " |-- over_18: string (nullable = true)\n",
      " |-- preview: string (nullable = true)\n",
      " |-- spoiler: string (nullable = true)\n",
      " |-- selftext: string (nullable = true)\n",
      " |-- stickied: string (nullable = true)\n",
      " |-- permalink: string (nullable = true)\n",
      " |-- subreddit: string (nullable = true)\n",
      " |-- created_utc: string (nullable = true)\n",
      " |-- num_comments: string (nullable = true)\n",
      " |-- upvote_ratio: string (nullable = true)\n",
      " |-- link_flair_text: string (nullable = true)\n",
      "\n"
     ]
    }
   ],
   "source": [
    "df.printSchema()"
   ]
  },
  {
   "cell_type": "code",
   "execution_count": 7,
   "id": "9336e4df-4de1-4746-9732-5011fbf5363b",
   "metadata": {},
   "outputs": [
    {
     "name": "stdout",
     "output_type": "stream",
     "text": [
      "+--------------------+--------------------+--------------------+-----------+---------------------+---------------+------+-------------+-------+-------+-------+----------------------------+--------+--------------------+-----------+------------+------------+------------+---------------+\n",
      "|                  id|                 url|               media|      score|                title|         author|edited|      is_self|over_18|preview|spoiler|                    selftext|stickied|           permalink|  subreddit| created_utc|num_comments|upvote_ratio|link_flair_text|\n",
      "+--------------------+--------------------+--------------------+-----------+---------------------+---------------+------+-------------+-------+-------+-------+----------------------------+--------+--------------------+-----------+------------+------------+------------+---------------+\n",
      "|             1mwn2vy|https://www.reddi...|                NULL|          2| Processor struggling|Gslicethepowner| False|         True|  False|   NULL|  False|        Hello, I have a P...|   False|/r/pchelp/comment...|     pchelp|1755809975.0|           3|         1.0|       HARDWARE|\n",
      "|             1mwn15x|https://www.reddi...|                NULL|          1| Difference betwee...|       fpsFoley| False|         True|  False|   NULL|  False|        Is there any diff...|   False|/r/Battlefield/co...|Battlefield|1755809861.0|           2|         1.0|  Battlefield 6|\n",
      "|             1mwmx0u|https://www.reddi...|                NULL|          5| Is the BF6 moveme...|     Minizman12| False|         True|  False|   NULL|  False|        Just read the bet...|    NULL|                NULL|       NULL|        NULL|        NULL|        NULL|           NULL|\n",
      "|Any thoughts welc...|               False|/r/Battlefield/co...|Battlefield|         1755809597.0|              5|  0.78|Battlefield 6|   NULL|   NULL|   NULL|                        NULL|    NULL|                NULL|       NULL|        NULL|        NULL|        NULL|           NULL|\n",
      "|             1mwmuxz|https://www.reddi...|                NULL|          1|8/21 Gossiping 板 ...|PTTGossipingBot| False|         True|  False|   NULL|  False|  1. [[新聞] 突想買刀！土...|    NULL|                NULL|       NULL|        NULL|        NULL|        NULL|           NULL|\n",
      "+--------------------+--------------------+--------------------+-----------+---------------------+---------------+------+-------------+-------+-------+-------+----------------------------+--------+--------------------+-----------+------------+------------+------------+---------------+\n",
      "only showing top 5 rows\n",
      "\n"
     ]
    }
   ],
   "source": [
    "df_not_null = df.filter(df[\"author\"].isNotNull()) #Filter chatbots\n",
    "df_not_null.show(5)"
   ]
  },
  {
   "cell_type": "code",
   "execution_count": 8,
   "id": "f7e39ff8-8e09-4093-ac89-56d03de1e356",
   "metadata": {},
   "outputs": [
    {
     "name": "stdout",
     "output_type": "stream",
     "text": [
      "+--------------------+---------------+------------+\n",
      "|                  id|         author| created_utc|\n",
      "+--------------------+---------------+------------+\n",
      "|             1mwn2vy|Gslicethepowner|1755809975.0|\n",
      "|             1mwn15x|       fpsFoley|1755809861.0|\n",
      "|             1mwmx0u|     Minizman12|        NULL|\n",
      "|Any thoughts welc...|              5|        NULL|\n",
      "|             1mwmuxz|PTTGossipingBot|        NULL|\n",
      "+--------------------+---------------+------------+\n",
      "only showing top 5 rows\n",
      "\n"
     ]
    }
   ],
   "source": [
    "users = df_not_null.select(\"id\",\"author\",\"created_utc\")\n",
    "users.show(5)"
   ]
  },
  {
   "cell_type": "code",
   "execution_count": null,
   "id": "69f29087-bc5d-4a16-8956-9d525f48605e",
   "metadata": {},
   "outputs": [],
   "source": [
    "users.write.mode(\"overwrite\").parquet(\"s3a://silver/reddit/jupyter_test/users_df\") #Writing on s3a server as parquet"
   ]
  },
  {
   "cell_type": "code",
   "execution_count": null,
   "id": "5103b113-c0c7-4b3f-bbad-ce5cb1bd44b0",
   "metadata": {},
   "outputs": [],
   "source": []
  }
 ],
 "metadata": {
  "kernelspec": {
   "display_name": "Python 3 (ipykernel)",
   "language": "python",
   "name": "python3"
  },
  "language_info": {
   "codemirror_mode": {
    "name": "ipython",
    "version": 3
   },
   "file_extension": ".py",
   "mimetype": "text/x-python",
   "name": "python",
   "nbconvert_exporter": "python",
   "pygments_lexer": "ipython3",
   "version": "3.12.9"
  }
 },
 "nbformat": 4,
 "nbformat_minor": 5
}
