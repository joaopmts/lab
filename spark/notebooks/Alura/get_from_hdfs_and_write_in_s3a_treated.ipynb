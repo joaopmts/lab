{
 "cells": [
  {
   "cell_type": "code",
   "execution_count": 1,
   "id": "b106836c-44ba-4577-bae6-95dcd86e5789",
   "metadata": {},
   "outputs": [],
   "source": [
    "from pyspark.sql import SparkSession"
   ]
  },
  {
   "cell_type": "code",
   "execution_count": 2,
   "id": "1ac224d8-a462-445a-a6fb-8ee368c01b7f",
   "metadata": {},
   "outputs": [
    {
     "name": "stderr",
     "output_type": "stream",
     "text": [
      "Setting default log level to \"WARN\".\n",
      "To adjust logging level use sc.setLogLevel(newLevel). For SparkR, use setLogLevel(newLevel).\n",
      "25/08/24 03:22:04 WARN NativeCodeLoader: Unable to load native-hadoop library for your platform... using builtin-java classes where applicable\n"
     ]
    }
   ],
   "source": [
    "spark = SparkSession.builder.appName(\"Airflow Formation\").master(\"spark://spark-master:7077\").enableHiveSupport().getOrCreate()"
   ]
  },
  {
   "cell_type": "code",
   "execution_count": 3,
   "id": "5186e3b8-b16b-488d-b0c1-acde596fb6d3",
   "metadata": {},
   "outputs": [
    {
     "data": {
      "text/html": [
       "\n",
       "            <div>\n",
       "                <p><b>SparkSession - hive</b></p>\n",
       "                \n",
       "        <div>\n",
       "            <p><b>SparkContext</b></p>\n",
       "\n",
       "            <p><a href=\"http://spark-master:4040\">Spark UI</a></p>\n",
       "\n",
       "            <dl>\n",
       "              <dt>Version</dt>\n",
       "                <dd><code>v3.5.4</code></dd>\n",
       "              <dt>Master</dt>\n",
       "                <dd><code>spark://spark-master:7077</code></dd>\n",
       "              <dt>AppName</dt>\n",
       "                <dd><code>Airflow Formation</code></dd>\n",
       "            </dl>\n",
       "        </div>\n",
       "        \n",
       "            </div>\n",
       "        "
      ],
      "text/plain": [
       "<pyspark.sql.session.SparkSession at 0x7ede54bd8b00>"
      ]
     },
     "execution_count": 3,
     "metadata": {},
     "output_type": "execute_result"
    }
   ],
   "source": [
    "spark"
   ]
  },
  {
   "cell_type": "code",
   "execution_count": 5,
   "id": "b4ea5caf-74a8-4da6-8f7e-94c7c854ef98",
   "metadata": {},
   "outputs": [
    {
     "name": "stderr",
     "output_type": "stream",
     "text": [
      "                                                                                "
     ]
    }
   ],
   "source": [
    "df = spark.read.csv(path='s3a://teste/reddit',header=True)"
   ]
  },
  {
   "cell_type": "code",
   "execution_count": 6,
   "id": "096fa9b9-f70d-4c27-9f9e-820d6e248ace",
   "metadata": {},
   "outputs": [
    {
     "name": "stdout",
     "output_type": "stream",
     "text": [
      "+--------------------+--------------------+-----+--------------------+--------------------+------------------+------+-------+--------------+--------------------+-------+--------------------+--------+--------------------+-----------+------------+------------+------------+---------------+\n",
      "|                  id|                 url|media|               score|               title|            author|edited|is_self|       over_18|             preview|spoiler|            selftext|stickied|           permalink|  subreddit| created_utc|num_comments|upvote_ratio|link_flair_text|\n",
      "+--------------------+--------------------+-----+--------------------+--------------------+------------------+------+-------+--------------+--------------------+-------+--------------------+--------+--------------------+-----------+------------+------------+------------+---------------+\n",
      "|             1my9da0|https://www.reddi...| NULL|                   1|Performance On Lo...|     NoN-Stop-Dank| False|   True|         False|                NULL|  False|\"I saw on a Moxsy...|    NULL|                NULL|       NULL|        NULL|        NULL|        NULL|           NULL|\n",
      "|I have a 2070 Sup...| but DICE probabl...|False|/r/Borderlands4/c...|        Borderlands4|      1755974370.0|     1|    1.0|❔ [ Question ]|                NULL|   NULL|                NULL|    NULL|                NULL|       NULL|        NULL|        NULL|        NULL|           NULL|\n",
      "|             1my99bb|https://i.redd.it...| NULL|                   1|Just warming up f...|SoggyBlueberry9440| False|  False|         False|{'images': [{'id'...|  False|37-8, decent scor...|   False|/r/Battlefield/co...|Battlefield|1755974112.0|           1|        0.99|  Battlefield 6|\n",
      "+--------------------+--------------------+-----+--------------------+--------------------+------------------+------+-------+--------------+--------------------+-------+--------------------+--------+--------------------+-----------+------------+------------+------------+---------------+\n",
      "only showing top 3 rows\n",
      "\n"
     ]
    }
   ],
   "source": [
    "df.show(3)"
   ]
  },
  {
   "cell_type": "code",
   "execution_count": 8,
   "id": "6a1cd921-d9c7-4aa4-bd04-0c787971809a",
   "metadata": {},
   "outputs": [],
   "source": [
    "df = spark.read.csv(path='hdfs://namenode:8020/teste/reddit',header=True)"
   ]
  },
  {
   "cell_type": "code",
   "execution_count": 9,
   "id": "2e9a2ca1-458b-4a8c-acf6-4efb4605c1ac",
   "metadata": {},
   "outputs": [
    {
     "name": "stdout",
     "output_type": "stream",
     "text": [
      "+--------------------+--------------------+-----+--------------------+--------------------+------------------+------+-------+--------------+--------------------+-------+--------------------+--------+--------------------+-----------+------------+------------+------------+---------------+\n",
      "|                  id|                 url|media|               score|               title|            author|edited|is_self|       over_18|             preview|spoiler|            selftext|stickied|           permalink|  subreddit| created_utc|num_comments|upvote_ratio|link_flair_text|\n",
      "+--------------------+--------------------+-----+--------------------+--------------------+------------------+------+-------+--------------+--------------------+-------+--------------------+--------+--------------------+-----------+------------+------------+------------+---------------+\n",
      "|             1my9da0|https://www.reddi...| NULL|                   1|Performance On Lo...|     NoN-Stop-Dank| False|   True|         False|                NULL|  False|\"I saw on a Moxsy...|    NULL|                NULL|       NULL|        NULL|        NULL|        NULL|           NULL|\n",
      "|I have a 2070 Sup...| but DICE probabl...|False|/r/Borderlands4/c...|        Borderlands4|      1755974370.0|     1|    1.0|❔ [ Question ]|                NULL|   NULL|                NULL|    NULL|                NULL|       NULL|        NULL|        NULL|        NULL|           NULL|\n",
      "|             1my99bb|https://i.redd.it...| NULL|                   1|Just warming up f...|SoggyBlueberry9440| False|  False|         False|{'images': [{'id'...|  False|37-8, decent scor...|   False|/r/Battlefield/co...|Battlefield|1755974112.0|           1|        0.99|  Battlefield 6|\n",
      "+--------------------+--------------------+-----+--------------------+--------------------+------------------+------+-------+--------------+--------------------+-------+--------------------+--------+--------------------+-----------+------------+------------+------------+---------------+\n",
      "only showing top 3 rows\n",
      "\n"
     ]
    }
   ],
   "source": [
    "df.show(3)"
   ]
  },
  {
   "cell_type": "code",
   "execution_count": null,
   "id": "963d2d6c-6e91-4792-b4ae-9552d953c40f",
   "metadata": {},
   "outputs": [],
   "source": [
    "df.printSchema()"
   ]
  },
  {
   "cell_type": "code",
   "execution_count": null,
   "id": "9336e4df-4de1-4746-9732-5011fbf5363b",
   "metadata": {},
   "outputs": [],
   "source": [
    "df_not_null = df.filter(df[\"author\"].isNotNull()) #Filter chatbots\n",
    "df_not_null.show(5)"
   ]
  },
  {
   "cell_type": "code",
   "execution_count": null,
   "id": "f7e39ff8-8e09-4093-ac89-56d03de1e356",
   "metadata": {},
   "outputs": [],
   "source": [
    "users = df_not_null.select(\"id\",\"author\",\"created_utc\")\n",
    "users.show(5)"
   ]
  },
  {
   "cell_type": "code",
   "execution_count": null,
   "id": "69f29087-bc5d-4a16-8956-9d525f48605e",
   "metadata": {},
   "outputs": [],
   "source": [
    "users.write.mode(\"overwrite\").parquet(\"s3a://silver/reddit/jupyter_test/users_df\") #Writing on s3a server as parquet"
   ]
  },
  {
   "cell_type": "code",
   "execution_count": null,
   "id": "5103b113-c0c7-4b3f-bbad-ce5cb1bd44b0",
   "metadata": {},
   "outputs": [],
   "source": []
  }
 ],
 "metadata": {
  "kernelspec": {
   "display_name": "Python 3 (ipykernel)",
   "language": "python",
   "name": "python3"
  },
  "language_info": {
   "codemirror_mode": {
    "name": "ipython",
    "version": 3
   },
   "file_extension": ".py",
   "mimetype": "text/x-python",
   "name": "python",
   "nbconvert_exporter": "python",
   "pygments_lexer": "ipython3",
   "version": "3.12.9"
  }
 },
 "nbformat": 4,
 "nbformat_minor": 5
}
