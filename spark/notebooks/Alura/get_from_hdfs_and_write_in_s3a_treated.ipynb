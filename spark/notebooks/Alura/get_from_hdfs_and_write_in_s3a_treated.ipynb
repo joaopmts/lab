{
 "cells": [
  {
   "cell_type": "code",
   "execution_count": 2,
   "id": "b106836c-44ba-4577-bae6-95dcd86e5789",
   "metadata": {},
   "outputs": [],
   "source": [
    "from pyspark.sql import SparkSession"
   ]
  },
  {
   "cell_type": "code",
   "execution_count": 3,
   "id": "1ac224d8-a462-445a-a6fb-8ee368c01b7f",
   "metadata": {},
   "outputs": [
    {
     "name": "stderr",
     "output_type": "stream",
     "text": [
      "Setting default log level to \"WARN\".\n",
      "To adjust logging level use sc.setLogLevel(newLevel). For SparkR, use setLogLevel(newLevel).\n",
      "25/08/24 09:51:58 WARN NativeCodeLoader: Unable to load native-hadoop library for your platform... using builtin-java classes where applicable\n"
     ]
    }
   ],
   "source": [
    "spark = SparkSession.builder.appName(\"Airflow Formation\").master(\"spark://spark-master:7077\").enableHiveSupport().getOrCreate()"
   ]
  },
  {
   "cell_type": "code",
   "execution_count": 4,
   "id": "5186e3b8-b16b-488d-b0c1-acde596fb6d3",
   "metadata": {},
   "outputs": [
    {
     "data": {
      "text/html": [
       "\n",
       "            <div>\n",
       "                <p><b>SparkSession - hive</b></p>\n",
       "                \n",
       "        <div>\n",
       "            <p><b>SparkContext</b></p>\n",
       "\n",
       "            <p><a href=\"http://spark-master:4040\">Spark UI</a></p>\n",
       "\n",
       "            <dl>\n",
       "              <dt>Version</dt>\n",
       "                <dd><code>v3.5.4</code></dd>\n",
       "              <dt>Master</dt>\n",
       "                <dd><code>spark://spark-master:7077</code></dd>\n",
       "              <dt>AppName</dt>\n",
       "                <dd><code>Airflow Formation</code></dd>\n",
       "            </dl>\n",
       "        </div>\n",
       "        \n",
       "            </div>\n",
       "        "
      ],
      "text/plain": [
       "<pyspark.sql.session.SparkSession at 0x771d7ad76f00>"
      ]
     },
     "execution_count": 4,
     "metadata": {},
     "output_type": "execute_result"
    }
   ],
   "source": [
    "spark"
   ]
  },
  {
   "cell_type": "code",
   "execution_count": 7,
   "id": "1c8615d7-c510-429a-b227-fa2a39ae583c",
   "metadata": {},
   "outputs": [
    {
     "ename": "AnalysisException",
     "evalue": "[UNABLE_TO_INFER_SCHEMA] Unable to infer schema for JSON. It must be specified manually.",
     "output_type": "error",
     "traceback": [
      "\u001b[31m---------------------------------------------------------------------------\u001b[39m",
      "\u001b[31mAnalysisException\u001b[39m                         Traceback (most recent call last)",
      "\u001b[36mCell\u001b[39m\u001b[36m \u001b[39m\u001b[32mIn[7]\u001b[39m\u001b[32m, line 1\u001b[39m\n\u001b[32m----> \u001b[39m\u001b[32m1\u001b[39m df = \u001b[43mspark\u001b[49m\u001b[43m.\u001b[49m\u001b[43mread\u001b[49m\u001b[43m.\u001b[49m\u001b[43mjson\u001b[49m\u001b[43m(\u001b[49m\u001b[43mpath\u001b[49m\u001b[43m=\u001b[49m\u001b[33;43m'\u001b[39;49m\u001b[33;43ms3a://bronze/reddit/day/json\u001b[39;49m\u001b[33;43m'\u001b[39;49m\u001b[43m)\u001b[49m\n",
      "\u001b[36mFile \u001b[39m\u001b[32m~opt/bitnami/spark/python/pyspark/sql/readwriter.py:425\u001b[39m, in \u001b[36mDataFrameReader.json\u001b[39m\u001b[34m(self, path, schema, primitivesAsString, prefersDecimal, allowComments, allowUnquotedFieldNames, allowSingleQuotes, allowNumericLeadingZero, allowBackslashEscapingAnyCharacter, mode, columnNameOfCorruptRecord, dateFormat, timestampFormat, multiLine, allowUnquotedControlChars, lineSep, samplingRatio, dropFieldIfAllNull, encoding, locale, pathGlobFilter, recursiveFileLookup, modifiedBefore, modifiedAfter, allowNonNumericNumbers)\u001b[39m\n\u001b[32m    423\u001b[39m \u001b[38;5;28;01mif\u001b[39;00m \u001b[38;5;28mtype\u001b[39m(path) == \u001b[38;5;28mlist\u001b[39m:\n\u001b[32m    424\u001b[39m     \u001b[38;5;28;01massert\u001b[39;00m \u001b[38;5;28mself\u001b[39m._spark._sc._jvm \u001b[38;5;129;01mis\u001b[39;00m \u001b[38;5;129;01mnot\u001b[39;00m \u001b[38;5;28;01mNone\u001b[39;00m\n\u001b[32m--> \u001b[39m\u001b[32m425\u001b[39m     \u001b[38;5;28;01mreturn\u001b[39;00m \u001b[38;5;28mself\u001b[39m._df(\u001b[38;5;28;43mself\u001b[39;49m\u001b[43m.\u001b[49m\u001b[43m_jreader\u001b[49m\u001b[43m.\u001b[49m\u001b[43mjson\u001b[49m\u001b[43m(\u001b[49m\u001b[38;5;28;43mself\u001b[39;49m\u001b[43m.\u001b[49m\u001b[43m_spark\u001b[49m\u001b[43m.\u001b[49m\u001b[43m_sc\u001b[49m\u001b[43m.\u001b[49m\u001b[43m_jvm\u001b[49m\u001b[43m.\u001b[49m\u001b[43mPythonUtils\u001b[49m\u001b[43m.\u001b[49m\u001b[43mtoSeq\u001b[49m\u001b[43m(\u001b[49m\u001b[43mpath\u001b[49m\u001b[43m)\u001b[49m\u001b[43m)\u001b[49m)\n\u001b[32m    426\u001b[39m \u001b[38;5;28;01melif\u001b[39;00m \u001b[38;5;28misinstance\u001b[39m(path, RDD):\n\u001b[32m    428\u001b[39m     \u001b[38;5;28;01mdef\u001b[39;00m\u001b[38;5;250m \u001b[39m\u001b[34mfunc\u001b[39m(iterator: Iterable) -> Iterable:\n",
      "\u001b[36mFile \u001b[39m\u001b[32m~opt/bitnami/python/lib/python3.12/site-packages/py4j/java_gateway.py:1322\u001b[39m, in \u001b[36mJavaMember.__call__\u001b[39m\u001b[34m(self, *args)\u001b[39m\n\u001b[32m   1316\u001b[39m command = proto.CALL_COMMAND_NAME +\\\n\u001b[32m   1317\u001b[39m     \u001b[38;5;28mself\u001b[39m.command_header +\\\n\u001b[32m   1318\u001b[39m     args_command +\\\n\u001b[32m   1319\u001b[39m     proto.END_COMMAND_PART\n\u001b[32m   1321\u001b[39m answer = \u001b[38;5;28mself\u001b[39m.gateway_client.send_command(command)\n\u001b[32m-> \u001b[39m\u001b[32m1322\u001b[39m return_value = \u001b[43mget_return_value\u001b[49m\u001b[43m(\u001b[49m\n\u001b[32m   1323\u001b[39m \u001b[43m    \u001b[49m\u001b[43manswer\u001b[49m\u001b[43m,\u001b[49m\u001b[43m \u001b[49m\u001b[38;5;28;43mself\u001b[39;49m\u001b[43m.\u001b[49m\u001b[43mgateway_client\u001b[49m\u001b[43m,\u001b[49m\u001b[43m \u001b[49m\u001b[38;5;28;43mself\u001b[39;49m\u001b[43m.\u001b[49m\u001b[43mtarget_id\u001b[49m\u001b[43m,\u001b[49m\u001b[43m \u001b[49m\u001b[38;5;28;43mself\u001b[39;49m\u001b[43m.\u001b[49m\u001b[43mname\u001b[49m\u001b[43m)\u001b[49m\n\u001b[32m   1325\u001b[39m \u001b[38;5;28;01mfor\u001b[39;00m temp_arg \u001b[38;5;129;01min\u001b[39;00m temp_args:\n\u001b[32m   1326\u001b[39m     \u001b[38;5;28;01mif\u001b[39;00m \u001b[38;5;28mhasattr\u001b[39m(temp_arg, \u001b[33m\"\u001b[39m\u001b[33m_detach\u001b[39m\u001b[33m\"\u001b[39m):\n",
      "\u001b[36mFile \u001b[39m\u001b[32m~opt/bitnami/spark/python/pyspark/errors/exceptions/captured.py:185\u001b[39m, in \u001b[36mcapture_sql_exception.<locals>.deco\u001b[39m\u001b[34m(*a, **kw)\u001b[39m\n\u001b[32m    181\u001b[39m converted = convert_exception(e.java_exception)\n\u001b[32m    182\u001b[39m \u001b[38;5;28;01mif\u001b[39;00m \u001b[38;5;129;01mnot\u001b[39;00m \u001b[38;5;28misinstance\u001b[39m(converted, UnknownException):\n\u001b[32m    183\u001b[39m     \u001b[38;5;66;03m# Hide where the exception came from that shows a non-Pythonic\u001b[39;00m\n\u001b[32m    184\u001b[39m     \u001b[38;5;66;03m# JVM exception message.\u001b[39;00m\n\u001b[32m--> \u001b[39m\u001b[32m185\u001b[39m     \u001b[38;5;28;01mraise\u001b[39;00m converted \u001b[38;5;28;01mfrom\u001b[39;00m\u001b[38;5;250m \u001b[39m\u001b[38;5;28;01mNone\u001b[39;00m\n\u001b[32m    186\u001b[39m \u001b[38;5;28;01melse\u001b[39;00m:\n\u001b[32m    187\u001b[39m     \u001b[38;5;28;01mraise\u001b[39;00m\n",
      "\u001b[31mAnalysisException\u001b[39m: [UNABLE_TO_INFER_SCHEMA] Unable to infer schema for JSON. It must be specified manually."
     ]
    }
   ],
   "source": [
    "df = spark.read.json(path='s3a://bronze/reddit/day/json')"
   ]
  },
  {
   "cell_type": "code",
   "execution_count": 4,
   "id": "b4ea5caf-74a8-4da6-8f7e-94c7c854ef98",
   "metadata": {},
   "outputs": [
    {
     "name": "stderr",
     "output_type": "stream",
     "text": [
      "25/08/24 04:42:01 WARN MetricsConfig: Cannot locate configuration: tried hadoop-metrics2-s3a-file-system.properties,hadoop-metrics2.properties\n",
      "                                                                                "
     ]
    }
   ],
   "source": [
    "df = spark.read.csv(path='s3a://teste/reddit',header=True)"
   ]
  },
  {
   "cell_type": "code",
   "execution_count": 5,
   "id": "096fa9b9-f70d-4c27-9f9e-820d6e248ace",
   "metadata": {},
   "outputs": [
    {
     "name": "stdout",
     "output_type": "stream",
     "text": [
      "+--------------------+--------------------+-----+--------------------+--------------------+------------------+------+-------+--------------+--------------------+-------+--------------------+--------+--------------------+-----------+------------+------------+------------+---------------+\n",
      "|                  id|                 url|media|               score|               title|            author|edited|is_self|       over_18|             preview|spoiler|            selftext|stickied|           permalink|  subreddit| created_utc|num_comments|upvote_ratio|link_flair_text|\n",
      "+--------------------+--------------------+-----+--------------------+--------------------+------------------+------+-------+--------------+--------------------+-------+--------------------+--------+--------------------+-----------+------------+------------+------------+---------------+\n",
      "|             1my9da0|https://www.reddi...| NULL|                   1|Performance On Lo...|     NoN-Stop-Dank| False|   True|         False|                NULL|  False|\"I saw on a Moxsy...|    NULL|                NULL|       NULL|        NULL|        NULL|        NULL|           NULL|\n",
      "|I have a 2070 Sup...| but DICE probabl...|False|/r/Borderlands4/c...|        Borderlands4|      1755974370.0|     1|    1.0|❔ [ Question ]|                NULL|   NULL|                NULL|    NULL|                NULL|       NULL|        NULL|        NULL|        NULL|           NULL|\n",
      "|             1my99bb|https://i.redd.it...| NULL|                   1|Just warming up f...|SoggyBlueberry9440| False|  False|         False|{'images': [{'id'...|  False|37-8, decent scor...|   False|/r/Battlefield/co...|Battlefield|1755974112.0|           1|        0.99|  Battlefield 6|\n",
      "+--------------------+--------------------+-----+--------------------+--------------------+------------------+------+-------+--------------+--------------------+-------+--------------------+--------+--------------------+-----------+------------+------------+------------+---------------+\n",
      "only showing top 3 rows\n",
      "\n"
     ]
    }
   ],
   "source": [
    "df.show(3)"
   ]
  },
  {
   "cell_type": "code",
   "execution_count": 6,
   "id": "6a1cd921-d9c7-4aa4-bd04-0c787971809a",
   "metadata": {},
   "outputs": [],
   "source": [
    "df = spark.read.csv(path='hdfs://namenode:8020/teste/reddit',header=True)"
   ]
  },
  {
   "cell_type": "code",
   "execution_count": 7,
   "id": "2e9a2ca1-458b-4a8c-acf6-4efb4605c1ac",
   "metadata": {},
   "outputs": [
    {
     "name": "stdout",
     "output_type": "stream",
     "text": [
      "+--------------------+--------------------+-----+--------------------+--------------------+------------------+------+-------+--------------+--------------------+-------+--------------------+--------+--------------------+-----------+------------+------------+------------+---------------+\n",
      "|                  id|                 url|media|               score|               title|            author|edited|is_self|       over_18|             preview|spoiler|            selftext|stickied|           permalink|  subreddit| created_utc|num_comments|upvote_ratio|link_flair_text|\n",
      "+--------------------+--------------------+-----+--------------------+--------------------+------------------+------+-------+--------------+--------------------+-------+--------------------+--------+--------------------+-----------+------------+------------+------------+---------------+\n",
      "|             1my9da0|https://www.reddi...| NULL|                   1|Performance On Lo...|     NoN-Stop-Dank| False|   True|         False|                NULL|  False|\"I saw on a Moxsy...|    NULL|                NULL|       NULL|        NULL|        NULL|        NULL|           NULL|\n",
      "|I have a 2070 Sup...| but DICE probabl...|False|/r/Borderlands4/c...|        Borderlands4|      1755974370.0|     1|    1.0|❔ [ Question ]|                NULL|   NULL|                NULL|    NULL|                NULL|       NULL|        NULL|        NULL|        NULL|           NULL|\n",
      "|             1my99bb|https://i.redd.it...| NULL|                   1|Just warming up f...|SoggyBlueberry9440| False|  False|         False|{'images': [{'id'...|  False|37-8, decent scor...|   False|/r/Battlefield/co...|Battlefield|1755974112.0|           1|        0.99|  Battlefield 6|\n",
      "+--------------------+--------------------+-----+--------------------+--------------------+------------------+------+-------+--------------+--------------------+-------+--------------------+--------+--------------------+-----------+------------+------------+------------+---------------+\n",
      "only showing top 3 rows\n",
      "\n"
     ]
    },
    {
     "name": "stderr",
     "output_type": "stream",
     "text": [
      "25/08/24 04:53:11 ERROR StandaloneSchedulerBackend: Application has been killed. Reason: Master removed our application: KILLED\n",
      "25/08/24 04:53:11 ERROR Inbox: Ignoring error\n",
      "org.apache.spark.SparkException: Exiting due to error from cluster scheduler: Master removed our application: KILLED\n",
      "\tat org.apache.spark.errors.SparkCoreErrors$.clusterSchedulerError(SparkCoreErrors.scala:291)\n",
      "\tat org.apache.spark.scheduler.TaskSchedulerImpl.error(TaskSchedulerImpl.scala:981)\n",
      "\tat org.apache.spark.scheduler.cluster.StandaloneSchedulerBackend.dead(StandaloneSchedulerBackend.scala:165)\n",
      "\tat org.apache.spark.deploy.client.StandaloneAppClient$ClientEndpoint.markDead(StandaloneAppClient.scala:263)\n",
      "\tat org.apache.spark.deploy.client.StandaloneAppClient$ClientEndpoint$$anonfun$receive$1.applyOrElse(StandaloneAppClient.scala:170)\n",
      "\tat org.apache.spark.rpc.netty.Inbox.$anonfun$process$1(Inbox.scala:115)\n",
      "\tat org.apache.spark.rpc.netty.Inbox.safelyCall(Inbox.scala:213)\n",
      "\tat org.apache.spark.rpc.netty.Inbox.process(Inbox.scala:100)\n",
      "\tat org.apache.spark.rpc.netty.MessageLoop.org$apache$spark$rpc$netty$MessageLoop$$receiveLoop(MessageLoop.scala:75)\n",
      "\tat org.apache.spark.rpc.netty.MessageLoop$$anon$1.run(MessageLoop.scala:41)\n",
      "\tat java.base/java.util.concurrent.ThreadPoolExecutor.runWorker(Unknown Source)\n",
      "\tat java.base/java.util.concurrent.ThreadPoolExecutor$Worker.run(Unknown Source)\n",
      "\tat java.base/java.lang.Thread.run(Unknown Source)\n",
      "25/08/24 04:53:11 ERROR TransportClient: Failed to send RPC RPC 7942787471782533015 to /172.18.0.12:54120: io.netty.channel.StacklessClosedChannelException\n",
      "io.netty.channel.StacklessClosedChannelException\n",
      "\tat io.netty.channel.AbstractChannel$AbstractUnsafe.write(Object, ChannelPromise)(Unknown Source)\n"
     ]
    }
   ],
   "source": [
    "df.show(3)"
   ]
  },
  {
   "cell_type": "code",
   "execution_count": null,
   "id": "963d2d6c-6e91-4792-b4ae-9552d953c40f",
   "metadata": {},
   "outputs": [],
   "source": [
    "df.printSchema()"
   ]
  },
  {
   "cell_type": "code",
   "execution_count": null,
   "id": "9336e4df-4de1-4746-9732-5011fbf5363b",
   "metadata": {},
   "outputs": [],
   "source": [
    "df_not_null = df.filter(df[\"author\"].isNotNull()) #Filter chatbots\n",
    "df_not_null.show(5)"
   ]
  },
  {
   "cell_type": "code",
   "execution_count": null,
   "id": "f7e39ff8-8e09-4093-ac89-56d03de1e356",
   "metadata": {},
   "outputs": [],
   "source": [
    "users = df_not_null.select(\"id\",\"author\",\"created_utc\")\n",
    "users.show(5)"
   ]
  },
  {
   "cell_type": "code",
   "execution_count": null,
   "id": "69f29087-bc5d-4a16-8956-9d525f48605e",
   "metadata": {},
   "outputs": [],
   "source": [
    "users.write.mode(\"overwrite\").parquet(\"s3a://silver/reddit/jupyter_test/users_df\") #Writing on s3a server as parquet"
   ]
  },
  {
   "cell_type": "code",
   "execution_count": null,
   "id": "5103b113-c0c7-4b3f-bbad-ce5cb1bd44b0",
   "metadata": {},
   "outputs": [],
   "source": []
  }
 ],
 "metadata": {
  "kernelspec": {
   "display_name": "Python 3 (ipykernel)",
   "language": "python",
   "name": "python3"
  },
  "language_info": {
   "codemirror_mode": {
    "name": "ipython",
    "version": 3
   },
   "file_extension": ".py",
   "mimetype": "text/x-python",
   "name": "python",
   "nbconvert_exporter": "python",
   "pygments_lexer": "ipython3",
   "version": "3.12.9"
  }
 },
 "nbformat": 4,
 "nbformat_minor": 5
}
